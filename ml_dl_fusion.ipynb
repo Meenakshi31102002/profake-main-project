{
  "nbformat": 4,
  "nbformat_minor": 0,
  "metadata": {
    "colab": {
      "provenance": [],
      "gpuType": "T4"
    },
    "kernelspec": {
      "name": "python3",
      "display_name": "Python 3"
    },
    "language_info": {
      "name": "python"
    },
    "accelerator": "GPU"
  },
  "cells": [
    {
      "cell_type": "markdown",
      "source": [
        "**Introduction**"
      ],
      "metadata": {
        "id": "9SguWI_uv06s"
      }
    },
    {
      "cell_type": "markdown",
      "source": [
        "Determining the legitimacy of an Instagram account is challenging. However, a predictive model can be constructed to gauge the probability of an account being fake, based on specific attributes and activity patterns. The objective is to classify user accounts as either genuine or counterfeit, constituting a binary classification task.\n",
        "\n",
        "In the digital era, Instagram has emerged as a prominent platform for social interaction, personal expression, and brand establishment. Yet, alongside its popularity, the platform has witnessed a surge in fake profiles and fraudulent activities. These accounts serve various nefarious purposes, including dissemination of misinformation, phishing scams, and identity theft. Addressing this concern necessitates the application of machine learning techniques to automatically detect and eliminate fake profiles from the platform.\n",
        "\n"
      ],
      "metadata": {
        "id": "862Qny6AvqqL"
      }
    },
    {
      "cell_type": "markdown",
      "source": [
        "**Goal**"
      ],
      "metadata": {
        "id": "lTPHh5CEwiJR"
      }
    },
    {
      "cell_type": "markdown",
      "source": [
        "The objective is to determine if a user account is genuine or fake, which is classified as a binary classification problem due to the presence of two categories. Here, employ a combination of machine learning and deep learning models to leverage the strengths of both approaches."
      ],
      "metadata": {
        "id": "ime2RGW7wlD_"
      }
    },
    {
      "cell_type": "markdown",
      "source": [
        "# download dataset"
      ],
      "metadata": {
        "id": "qTyDO3KAw9is"
      }
    },
    {
      "cell_type": "code",
      "execution_count": null,
      "metadata": {
        "colab": {
          "base_uri": "https://localhost:8080/",
          "height": 92
        },
        "id": "FtpLm1EDrkuS",
        "outputId": "f8b91e9b-f932-408d-cf6b-32186c1c64a8"
      },
      "outputs": [
        {
          "output_type": "display_data",
          "data": {
            "text/plain": [
              "<IPython.core.display.HTML object>"
            ],
            "text/html": [
              "\n",
              "     <input type=\"file\" id=\"files-83b9f2b0-66e4-4ea8-9201-955634018d00\" name=\"files[]\" multiple disabled\n",
              "        style=\"border:none\" />\n",
              "     <output id=\"result-83b9f2b0-66e4-4ea8-9201-955634018d00\">\n",
              "      Upload widget is only available when the cell has been executed in the\n",
              "      current browser session. Please rerun this cell to enable.\n",
              "      </output>\n",
              "      <script>// Copyright 2017 Google LLC\n",
              "//\n",
              "// Licensed under the Apache License, Version 2.0 (the \"License\");\n",
              "// you may not use this file except in compliance with the License.\n",
              "// You may obtain a copy of the License at\n",
              "//\n",
              "//      http://www.apache.org/licenses/LICENSE-2.0\n",
              "//\n",
              "// Unless required by applicable law or agreed to in writing, software\n",
              "// distributed under the License is distributed on an \"AS IS\" BASIS,\n",
              "// WITHOUT WARRANTIES OR CONDITIONS OF ANY KIND, either express or implied.\n",
              "// See the License for the specific language governing permissions and\n",
              "// limitations under the License.\n",
              "\n",
              "/**\n",
              " * @fileoverview Helpers for google.colab Python module.\n",
              " */\n",
              "(function(scope) {\n",
              "function span(text, styleAttributes = {}) {\n",
              "  const element = document.createElement('span');\n",
              "  element.textContent = text;\n",
              "  for (const key of Object.keys(styleAttributes)) {\n",
              "    element.style[key] = styleAttributes[key];\n",
              "  }\n",
              "  return element;\n",
              "}\n",
              "\n",
              "// Max number of bytes which will be uploaded at a time.\n",
              "const MAX_PAYLOAD_SIZE = 100 * 1024;\n",
              "\n",
              "function _uploadFiles(inputId, outputId) {\n",
              "  const steps = uploadFilesStep(inputId, outputId);\n",
              "  const outputElement = document.getElementById(outputId);\n",
              "  // Cache steps on the outputElement to make it available for the next call\n",
              "  // to uploadFilesContinue from Python.\n",
              "  outputElement.steps = steps;\n",
              "\n",
              "  return _uploadFilesContinue(outputId);\n",
              "}\n",
              "\n",
              "// This is roughly an async generator (not supported in the browser yet),\n",
              "// where there are multiple asynchronous steps and the Python side is going\n",
              "// to poll for completion of each step.\n",
              "// This uses a Promise to block the python side on completion of each step,\n",
              "// then passes the result of the previous step as the input to the next step.\n",
              "function _uploadFilesContinue(outputId) {\n",
              "  const outputElement = document.getElementById(outputId);\n",
              "  const steps = outputElement.steps;\n",
              "\n",
              "  const next = steps.next(outputElement.lastPromiseValue);\n",
              "  return Promise.resolve(next.value.promise).then((value) => {\n",
              "    // Cache the last promise value to make it available to the next\n",
              "    // step of the generator.\n",
              "    outputElement.lastPromiseValue = value;\n",
              "    return next.value.response;\n",
              "  });\n",
              "}\n",
              "\n",
              "/**\n",
              " * Generator function which is called between each async step of the upload\n",
              " * process.\n",
              " * @param {string} inputId Element ID of the input file picker element.\n",
              " * @param {string} outputId Element ID of the output display.\n",
              " * @return {!Iterable<!Object>} Iterable of next steps.\n",
              " */\n",
              "function* uploadFilesStep(inputId, outputId) {\n",
              "  const inputElement = document.getElementById(inputId);\n",
              "  inputElement.disabled = false;\n",
              "\n",
              "  const outputElement = document.getElementById(outputId);\n",
              "  outputElement.innerHTML = '';\n",
              "\n",
              "  const pickedPromise = new Promise((resolve) => {\n",
              "    inputElement.addEventListener('change', (e) => {\n",
              "      resolve(e.target.files);\n",
              "    });\n",
              "  });\n",
              "\n",
              "  const cancel = document.createElement('button');\n",
              "  inputElement.parentElement.appendChild(cancel);\n",
              "  cancel.textContent = 'Cancel upload';\n",
              "  const cancelPromise = new Promise((resolve) => {\n",
              "    cancel.onclick = () => {\n",
              "      resolve(null);\n",
              "    };\n",
              "  });\n",
              "\n",
              "  // Wait for the user to pick the files.\n",
              "  const files = yield {\n",
              "    promise: Promise.race([pickedPromise, cancelPromise]),\n",
              "    response: {\n",
              "      action: 'starting',\n",
              "    }\n",
              "  };\n",
              "\n",
              "  cancel.remove();\n",
              "\n",
              "  // Disable the input element since further picks are not allowed.\n",
              "  inputElement.disabled = true;\n",
              "\n",
              "  if (!files) {\n",
              "    return {\n",
              "      response: {\n",
              "        action: 'complete',\n",
              "      }\n",
              "    };\n",
              "  }\n",
              "\n",
              "  for (const file of files) {\n",
              "    const li = document.createElement('li');\n",
              "    li.append(span(file.name, {fontWeight: 'bold'}));\n",
              "    li.append(span(\n",
              "        `(${file.type || 'n/a'}) - ${file.size} bytes, ` +\n",
              "        `last modified: ${\n",
              "            file.lastModifiedDate ? file.lastModifiedDate.toLocaleDateString() :\n",
              "                                    'n/a'} - `));\n",
              "    const percent = span('0% done');\n",
              "    li.appendChild(percent);\n",
              "\n",
              "    outputElement.appendChild(li);\n",
              "\n",
              "    const fileDataPromise = new Promise((resolve) => {\n",
              "      const reader = new FileReader();\n",
              "      reader.onload = (e) => {\n",
              "        resolve(e.target.result);\n",
              "      };\n",
              "      reader.readAsArrayBuffer(file);\n",
              "    });\n",
              "    // Wait for the data to be ready.\n",
              "    let fileData = yield {\n",
              "      promise: fileDataPromise,\n",
              "      response: {\n",
              "        action: 'continue',\n",
              "      }\n",
              "    };\n",
              "\n",
              "    // Use a chunked sending to avoid message size limits. See b/62115660.\n",
              "    let position = 0;\n",
              "    do {\n",
              "      const length = Math.min(fileData.byteLength - position, MAX_PAYLOAD_SIZE);\n",
              "      const chunk = new Uint8Array(fileData, position, length);\n",
              "      position += length;\n",
              "\n",
              "      const base64 = btoa(String.fromCharCode.apply(null, chunk));\n",
              "      yield {\n",
              "        response: {\n",
              "          action: 'append',\n",
              "          file: file.name,\n",
              "          data: base64,\n",
              "        },\n",
              "      };\n",
              "\n",
              "      let percentDone = fileData.byteLength === 0 ?\n",
              "          100 :\n",
              "          Math.round((position / fileData.byteLength) * 100);\n",
              "      percent.textContent = `${percentDone}% done`;\n",
              "\n",
              "    } while (position < fileData.byteLength);\n",
              "  }\n",
              "\n",
              "  // All done.\n",
              "  yield {\n",
              "    response: {\n",
              "      action: 'complete',\n",
              "    }\n",
              "  };\n",
              "}\n",
              "\n",
              "scope.google = scope.google || {};\n",
              "scope.google.colab = scope.google.colab || {};\n",
              "scope.google.colab._files = {\n",
              "  _uploadFiles,\n",
              "  _uploadFilesContinue,\n",
              "};\n",
              "})(self);\n",
              "</script> "
            ]
          },
          "metadata": {}
        },
        {
          "output_type": "stream",
          "name": "stdout",
          "text": [
            "Saving kaggle.json to kaggle.json\n"
          ]
        },
        {
          "output_type": "execute_result",
          "data": {
            "text/plain": [
              "{'kaggle.json': b'{\"username\":\"akumar5189\",\"key\":\"2696a900cc1140e193898bd7a6284aca\"}'}"
            ]
          },
          "metadata": {},
          "execution_count": 1
        }
      ],
      "source": [
        "#upload api key\n",
        "from google.colab import files\n",
        "files.upload()"
      ]
    },
    {
      "cell_type": "code",
      "source": [
        "# prepare for api command and give permission for read and write\n",
        "!mkdir ~/.kaggle\n",
        "!cp kaggle.json ~/.kaggle\n",
        "!rm -rf kaggle.json\n",
        "!chmod 600 ~/.kaggle/kaggle.json"
      ],
      "metadata": {
        "id": "5MKRz3rgxEO2"
      },
      "execution_count": null,
      "outputs": []
    },
    {
      "cell_type": "code",
      "source": [
        "!kaggle datasets download -d free4ever1/instagram-fake-spammer-genuine-accounts"
      ],
      "metadata": {
        "colab": {
          "base_uri": "https://localhost:8080/"
        },
        "id": "XpBpX3W0xHqk",
        "outputId": "6aebbd4c-bf6b-47b8-f02c-6fe5a4de792a"
      },
      "execution_count": null,
      "outputs": [
        {
          "output_type": "stream",
          "name": "stdout",
          "text": [
            "Downloading instagram-fake-spammer-genuine-accounts.zip to /content\n",
            "\r  0% 0.00/6.81k [00:00<?, ?B/s]\n",
            "\r100% 6.81k/6.81k [00:00<00:00, 14.2MB/s]\n"
          ]
        }
      ]
    },
    {
      "cell_type": "code",
      "source": [
        "#unzip dataset\n",
        "!unzip /content/instagram-fake-spammer-genuine-accounts.zip &> /dev/null\n",
        "!rm -rf /content/instagram-fake-spammer-genuine-accounts.zip"
      ],
      "metadata": {
        "id": "Fv38q_q-xLM1"
      },
      "execution_count": null,
      "outputs": []
    },
    {
      "cell_type": "markdown",
      "source": [
        "# Import Libraries"
      ],
      "metadata": {
        "id": "ZEA22eYzxh5q"
      }
    },
    {
      "cell_type": "code",
      "source": [
        "import pandas as pd\n",
        "import numpy as np\n",
        "import matplotlib.pyplot as plt\n",
        "import seaborn as sns\n",
        "from sklearn.model_selection import train_test_split\n",
        "from sklearn.svm import SVC\n",
        "from sklearn.metrics import  accuracy_score\n",
        "from sklearn.neural_network import MLPClassifier\n",
        "from sklearn.neighbors import KNeighborsClassifier\n",
        "from sklearn.metrics import confusion_matrix\n",
        "from tensorflow.keras import utils\n",
        "from tensorflow import keras\n",
        "from tensorflow.keras import layers"
      ],
      "metadata": {
        "id": "Sr1felC1xbr6"
      },
      "execution_count": null,
      "outputs": []
    },
    {
      "cell_type": "markdown",
      "source": [
        "# Load data"
      ],
      "metadata": {
        "id": "C_53x_JKx8JI"
      }
    },
    {
      "cell_type": "markdown",
      "source": [
        "The initial step involves loading the data and comprehending the dataset's information structure. Following that, we implement any required alterations to the dataset before proceeding with exploratory data analysis and modeling. There are two files available: one for training and another for testing. The target vector is determined by the 'fake' column."
      ],
      "metadata": {
        "id": "ttid8c-9y6-h"
      }
    },
    {
      "cell_type": "code",
      "source": [
        "\n",
        "train = pd.read_csv('train.csv') # load Training dataset\n",
        "test = pd.read_csv('test.csv') # load Testing dataset\n",
        "#combine data\n",
        "df = pd.concat([train, test], ignore_index=True)"
      ],
      "metadata": {
        "id": "8aVQUSKAx7f8"
      },
      "execution_count": null,
      "outputs": []
    },
    {
      "cell_type": "markdown",
      "source": [
        "the features are:\n",
        "- Profile Picture: Binary indicator of whether an account has a profile picture or not.\n",
        "\n",
        "- Numerical Characters to Username Length Ratio: Continuous feature representing the proportion of numerical characters in an account's username.\n",
        "\n",
        "- Full Name Word Count: Continuous feature indicating the total number of words in the person's full name.\n",
        "\n",
        "- Numerical Characters to Full Name Length Ratio: Continuous feature indicating the ratio of numerical characters to the total length of the person's full name.\n",
        "\n",
        "- Name Matches Username: Binary feature indicating whether the person's name matches their username.\n",
        "\n",
        "- Description Length: Length of the profile description, likely the bio.\n",
        "\n",
        "- External URL in Bio: Binary feature indicating whether a profile has a link to an external website in its bio.\n",
        "\n",
        "- Private Profile: Binary feature indicating whether the profile is restricted to non-followers.\n",
        "\n",
        "- Number of Posts: Continuous feature representing the total number of posts on the profile.\n",
        "\n",
        "- Number of Followers: Continuous feature representing the total number of followers for each account.\n",
        "\n",
        "- Number of Follows: Continuous feature representing the total number of accounts that the user is following.\n",
        "\n",
        "- Fake Account: Target variable indicating whether an account is fake or not."
      ],
      "metadata": {
        "id": "jJ_omgBO4BEI"
      }
    },
    {
      "cell_type": "code",
      "source": [
        "df.head(4)"
      ],
      "metadata": {
        "colab": {
          "base_uri": "https://localhost:8080/",
          "height": 230
        },
        "id": "d6Z5hMgU3LsB",
        "outputId": "a4868e04-d5d6-49d8-ec92-dc33b94cebd8"
      },
      "execution_count": null,
      "outputs": [
        {
          "output_type": "execute_result",
          "data": {
            "text/plain": [
              "   profile pic  nums/length username  fullname words  nums/length fullname  \\\n",
              "0            1                  0.27               0                   0.0   \n",
              "1            1                  0.00               2                   0.0   \n",
              "2            1                  0.10               2                   0.0   \n",
              "3            1                  0.00               1                   0.0   \n",
              "\n",
              "   name==username  description length  external URL  private  #posts  \\\n",
              "0               0                  53             0        0      32   \n",
              "1               0                  44             0        0     286   \n",
              "2               0                   0             0        1      13   \n",
              "3               0                  82             0        0     679   \n",
              "\n",
              "   #followers  #follows  fake  \n",
              "0        1000       955     0  \n",
              "1        2740       533     0  \n",
              "2         159        98     0  \n",
              "3         414       651     0  "
            ],
            "text/html": [
              "\n",
              "  <div id=\"df-f1eabf55-54e3-47e7-980b-cf0933c1a1df\" class=\"colab-df-container\">\n",
              "    <div>\n",
              "<style scoped>\n",
              "    .dataframe tbody tr th:only-of-type {\n",
              "        vertical-align: middle;\n",
              "    }\n",
              "\n",
              "    .dataframe tbody tr th {\n",
              "        vertical-align: top;\n",
              "    }\n",
              "\n",
              "    .dataframe thead th {\n",
              "        text-align: right;\n",
              "    }\n",
              "</style>\n",
              "<table border=\"1\" class=\"dataframe\">\n",
              "  <thead>\n",
              "    <tr style=\"text-align: right;\">\n",
              "      <th></th>\n",
              "      <th>profile pic</th>\n",
              "      <th>nums/length username</th>\n",
              "      <th>fullname words</th>\n",
              "      <th>nums/length fullname</th>\n",
              "      <th>name==username</th>\n",
              "      <th>description length</th>\n",
              "      <th>external URL</th>\n",
              "      <th>private</th>\n",
              "      <th>#posts</th>\n",
              "      <th>#followers</th>\n",
              "      <th>#follows</th>\n",
              "      <th>fake</th>\n",
              "    </tr>\n",
              "  </thead>\n",
              "  <tbody>\n",
              "    <tr>\n",
              "      <th>0</th>\n",
              "      <td>1</td>\n",
              "      <td>0.27</td>\n",
              "      <td>0</td>\n",
              "      <td>0.0</td>\n",
              "      <td>0</td>\n",
              "      <td>53</td>\n",
              "      <td>0</td>\n",
              "      <td>0</td>\n",
              "      <td>32</td>\n",
              "      <td>1000</td>\n",
              "      <td>955</td>\n",
              "      <td>0</td>\n",
              "    </tr>\n",
              "    <tr>\n",
              "      <th>1</th>\n",
              "      <td>1</td>\n",
              "      <td>0.00</td>\n",
              "      <td>2</td>\n",
              "      <td>0.0</td>\n",
              "      <td>0</td>\n",
              "      <td>44</td>\n",
              "      <td>0</td>\n",
              "      <td>0</td>\n",
              "      <td>286</td>\n",
              "      <td>2740</td>\n",
              "      <td>533</td>\n",
              "      <td>0</td>\n",
              "    </tr>\n",
              "    <tr>\n",
              "      <th>2</th>\n",
              "      <td>1</td>\n",
              "      <td>0.10</td>\n",
              "      <td>2</td>\n",
              "      <td>0.0</td>\n",
              "      <td>0</td>\n",
              "      <td>0</td>\n",
              "      <td>0</td>\n",
              "      <td>1</td>\n",
              "      <td>13</td>\n",
              "      <td>159</td>\n",
              "      <td>98</td>\n",
              "      <td>0</td>\n",
              "    </tr>\n",
              "    <tr>\n",
              "      <th>3</th>\n",
              "      <td>1</td>\n",
              "      <td>0.00</td>\n",
              "      <td>1</td>\n",
              "      <td>0.0</td>\n",
              "      <td>0</td>\n",
              "      <td>82</td>\n",
              "      <td>0</td>\n",
              "      <td>0</td>\n",
              "      <td>679</td>\n",
              "      <td>414</td>\n",
              "      <td>651</td>\n",
              "      <td>0</td>\n",
              "    </tr>\n",
              "  </tbody>\n",
              "</table>\n",
              "</div>\n",
              "    <div class=\"colab-df-buttons\">\n",
              "\n",
              "  <div class=\"colab-df-container\">\n",
              "    <button class=\"colab-df-convert\" onclick=\"convertToInteractive('df-f1eabf55-54e3-47e7-980b-cf0933c1a1df')\"\n",
              "            title=\"Convert this dataframe to an interactive table.\"\n",
              "            style=\"display:none;\">\n",
              "\n",
              "  <svg xmlns=\"http://www.w3.org/2000/svg\" height=\"24px\" viewBox=\"0 -960 960 960\">\n",
              "    <path d=\"M120-120v-720h720v720H120Zm60-500h600v-160H180v160Zm220 220h160v-160H400v160Zm0 220h160v-160H400v160ZM180-400h160v-160H180v160Zm440 0h160v-160H620v160ZM180-180h160v-160H180v160Zm440 0h160v-160H620v160Z\"/>\n",
              "  </svg>\n",
              "    </button>\n",
              "\n",
              "  <style>\n",
              "    .colab-df-container {\n",
              "      display:flex;\n",
              "      gap: 12px;\n",
              "    }\n",
              "\n",
              "    .colab-df-convert {\n",
              "      background-color: #E8F0FE;\n",
              "      border: none;\n",
              "      border-radius: 50%;\n",
              "      cursor: pointer;\n",
              "      display: none;\n",
              "      fill: #1967D2;\n",
              "      height: 32px;\n",
              "      padding: 0 0 0 0;\n",
              "      width: 32px;\n",
              "    }\n",
              "\n",
              "    .colab-df-convert:hover {\n",
              "      background-color: #E2EBFA;\n",
              "      box-shadow: 0px 1px 2px rgba(60, 64, 67, 0.3), 0px 1px 3px 1px rgba(60, 64, 67, 0.15);\n",
              "      fill: #174EA6;\n",
              "    }\n",
              "\n",
              "    .colab-df-buttons div {\n",
              "      margin-bottom: 4px;\n",
              "    }\n",
              "\n",
              "    [theme=dark] .colab-df-convert {\n",
              "      background-color: #3B4455;\n",
              "      fill: #D2E3FC;\n",
              "    }\n",
              "\n",
              "    [theme=dark] .colab-df-convert:hover {\n",
              "      background-color: #434B5C;\n",
              "      box-shadow: 0px 1px 3px 1px rgba(0, 0, 0, 0.15);\n",
              "      filter: drop-shadow(0px 1px 2px rgba(0, 0, 0, 0.3));\n",
              "      fill: #FFFFFF;\n",
              "    }\n",
              "  </style>\n",
              "\n",
              "    <script>\n",
              "      const buttonEl =\n",
              "        document.querySelector('#df-f1eabf55-54e3-47e7-980b-cf0933c1a1df button.colab-df-convert');\n",
              "      buttonEl.style.display =\n",
              "        google.colab.kernel.accessAllowed ? 'block' : 'none';\n",
              "\n",
              "      async function convertToInteractive(key) {\n",
              "        const element = document.querySelector('#df-f1eabf55-54e3-47e7-980b-cf0933c1a1df');\n",
              "        const dataTable =\n",
              "          await google.colab.kernel.invokeFunction('convertToInteractive',\n",
              "                                                    [key], {});\n",
              "        if (!dataTable) return;\n",
              "\n",
              "        const docLinkHtml = 'Like what you see? Visit the ' +\n",
              "          '<a target=\"_blank\" href=https://colab.research.google.com/notebooks/data_table.ipynb>data table notebook</a>'\n",
              "          + ' to learn more about interactive tables.';\n",
              "        element.innerHTML = '';\n",
              "        dataTable['output_type'] = 'display_data';\n",
              "        await google.colab.output.renderOutput(dataTable, element);\n",
              "        const docLink = document.createElement('div');\n",
              "        docLink.innerHTML = docLinkHtml;\n",
              "        element.appendChild(docLink);\n",
              "      }\n",
              "    </script>\n",
              "  </div>\n",
              "\n",
              "\n",
              "<div id=\"df-010414b3-ddb5-4755-a8de-91253eec8432\">\n",
              "  <button class=\"colab-df-quickchart\" onclick=\"quickchart('df-010414b3-ddb5-4755-a8de-91253eec8432')\"\n",
              "            title=\"Suggest charts\"\n",
              "            style=\"display:none;\">\n",
              "\n",
              "<svg xmlns=\"http://www.w3.org/2000/svg\" height=\"24px\"viewBox=\"0 0 24 24\"\n",
              "     width=\"24px\">\n",
              "    <g>\n",
              "        <path d=\"M19 3H5c-1.1 0-2 .9-2 2v14c0 1.1.9 2 2 2h14c1.1 0 2-.9 2-2V5c0-1.1-.9-2-2-2zM9 17H7v-7h2v7zm4 0h-2V7h2v10zm4 0h-2v-4h2v4z\"/>\n",
              "    </g>\n",
              "</svg>\n",
              "  </button>\n",
              "\n",
              "<style>\n",
              "  .colab-df-quickchart {\n",
              "      --bg-color: #E8F0FE;\n",
              "      --fill-color: #1967D2;\n",
              "      --hover-bg-color: #E2EBFA;\n",
              "      --hover-fill-color: #174EA6;\n",
              "      --disabled-fill-color: #AAA;\n",
              "      --disabled-bg-color: #DDD;\n",
              "  }\n",
              "\n",
              "  [theme=dark] .colab-df-quickchart {\n",
              "      --bg-color: #3B4455;\n",
              "      --fill-color: #D2E3FC;\n",
              "      --hover-bg-color: #434B5C;\n",
              "      --hover-fill-color: #FFFFFF;\n",
              "      --disabled-bg-color: #3B4455;\n",
              "      --disabled-fill-color: #666;\n",
              "  }\n",
              "\n",
              "  .colab-df-quickchart {\n",
              "    background-color: var(--bg-color);\n",
              "    border: none;\n",
              "    border-radius: 50%;\n",
              "    cursor: pointer;\n",
              "    display: none;\n",
              "    fill: var(--fill-color);\n",
              "    height: 32px;\n",
              "    padding: 0;\n",
              "    width: 32px;\n",
              "  }\n",
              "\n",
              "  .colab-df-quickchart:hover {\n",
              "    background-color: var(--hover-bg-color);\n",
              "    box-shadow: 0 1px 2px rgba(60, 64, 67, 0.3), 0 1px 3px 1px rgba(60, 64, 67, 0.15);\n",
              "    fill: var(--button-hover-fill-color);\n",
              "  }\n",
              "\n",
              "  .colab-df-quickchart-complete:disabled,\n",
              "  .colab-df-quickchart-complete:disabled:hover {\n",
              "    background-color: var(--disabled-bg-color);\n",
              "    fill: var(--disabled-fill-color);\n",
              "    box-shadow: none;\n",
              "  }\n",
              "\n",
              "  .colab-df-spinner {\n",
              "    border: 2px solid var(--fill-color);\n",
              "    border-color: transparent;\n",
              "    border-bottom-color: var(--fill-color);\n",
              "    animation:\n",
              "      spin 1s steps(1) infinite;\n",
              "  }\n",
              "\n",
              "  @keyframes spin {\n",
              "    0% {\n",
              "      border-color: transparent;\n",
              "      border-bottom-color: var(--fill-color);\n",
              "      border-left-color: var(--fill-color);\n",
              "    }\n",
              "    20% {\n",
              "      border-color: transparent;\n",
              "      border-left-color: var(--fill-color);\n",
              "      border-top-color: var(--fill-color);\n",
              "    }\n",
              "    30% {\n",
              "      border-color: transparent;\n",
              "      border-left-color: var(--fill-color);\n",
              "      border-top-color: var(--fill-color);\n",
              "      border-right-color: var(--fill-color);\n",
              "    }\n",
              "    40% {\n",
              "      border-color: transparent;\n",
              "      border-right-color: var(--fill-color);\n",
              "      border-top-color: var(--fill-color);\n",
              "    }\n",
              "    60% {\n",
              "      border-color: transparent;\n",
              "      border-right-color: var(--fill-color);\n",
              "    }\n",
              "    80% {\n",
              "      border-color: transparent;\n",
              "      border-right-color: var(--fill-color);\n",
              "      border-bottom-color: var(--fill-color);\n",
              "    }\n",
              "    90% {\n",
              "      border-color: transparent;\n",
              "      border-bottom-color: var(--fill-color);\n",
              "    }\n",
              "  }\n",
              "</style>\n",
              "\n",
              "  <script>\n",
              "    async function quickchart(key) {\n",
              "      const quickchartButtonEl =\n",
              "        document.querySelector('#' + key + ' button');\n",
              "      quickchartButtonEl.disabled = true;  // To prevent multiple clicks.\n",
              "      quickchartButtonEl.classList.add('colab-df-spinner');\n",
              "      try {\n",
              "        const charts = await google.colab.kernel.invokeFunction(\n",
              "            'suggestCharts', [key], {});\n",
              "      } catch (error) {\n",
              "        console.error('Error during call to suggestCharts:', error);\n",
              "      }\n",
              "      quickchartButtonEl.classList.remove('colab-df-spinner');\n",
              "      quickchartButtonEl.classList.add('colab-df-quickchart-complete');\n",
              "    }\n",
              "    (() => {\n",
              "      let quickchartButtonEl =\n",
              "        document.querySelector('#df-010414b3-ddb5-4755-a8de-91253eec8432 button');\n",
              "      quickchartButtonEl.style.display =\n",
              "        google.colab.kernel.accessAllowed ? 'block' : 'none';\n",
              "    })();\n",
              "  </script>\n",
              "</div>\n",
              "\n",
              "    </div>\n",
              "  </div>\n"
            ],
            "application/vnd.google.colaboratory.intrinsic+json": {
              "type": "dataframe",
              "variable_name": "df",
              "summary": "{\n  \"name\": \"df\",\n  \"rows\": 696,\n  \"fields\": [\n    {\n      \"column\": \"profile pic\",\n      \"properties\": {\n        \"dtype\": \"number\",\n        \"std\": 0,\n        \"min\": 0,\n        \"max\": 1,\n        \"num_unique_values\": 2,\n        \"samples\": [\n          0,\n          1\n        ],\n        \"semantic_type\": \"\",\n        \"description\": \"\"\n      }\n    },\n    {\n      \"column\": \"nums/length username\",\n      \"properties\": {\n        \"dtype\": \"number\",\n        \"std\": 0.21896354185919706,\n        \"min\": 0.0,\n        \"max\": 0.92,\n        \"num_unique_values\": 58,\n        \"samples\": [\n          0.27,\n          0.18\n        ],\n        \"semantic_type\": \"\",\n        \"description\": \"\"\n      }\n    },\n    {\n      \"column\": \"fullname words\",\n      \"properties\": {\n        \"dtype\": \"number\",\n        \"std\": 1,\n        \"min\": 0,\n        \"max\": 12,\n        \"num_unique_values\": 11,\n        \"samples\": [\n          6,\n          0\n        ],\n        \"semantic_type\": \"\",\n        \"description\": \"\"\n      }\n    },\n    {\n      \"column\": \"nums/length fullname\",\n      \"properties\": {\n        \"dtype\": \"number\",\n        \"std\": 0.14366439706669326,\n        \"min\": 0.0,\n        \"max\": 1.0,\n        \"num_unique_values\": 27,\n        \"samples\": [\n          0.22,\n          0.11\n        ],\n        \"semantic_type\": \"\",\n        \"description\": \"\"\n      }\n    },\n    {\n      \"column\": \"name==username\",\n      \"properties\": {\n        \"dtype\": \"number\",\n        \"std\": 0,\n        \"min\": 0,\n        \"max\": 1,\n        \"num_unique_values\": 2,\n        \"samples\": [\n          1,\n          0\n        ],\n        \"semantic_type\": \"\",\n        \"description\": \"\"\n      }\n    },\n    {\n      \"column\": \"description length\",\n      \"properties\": {\n        \"dtype\": \"number\",\n        \"std\": 38,\n        \"min\": 0,\n        \"max\": 150,\n        \"num_unique_values\": 114,\n        \"samples\": [\n          10,\n          81\n        ],\n        \"semantic_type\": \"\",\n        \"description\": \"\"\n      }\n    },\n    {\n      \"column\": \"external URL\",\n      \"properties\": {\n        \"dtype\": \"number\",\n        \"std\": 0,\n        \"min\": 0,\n        \"max\": 1,\n        \"num_unique_values\": 2,\n        \"samples\": [\n          1,\n          0\n        ],\n        \"semantic_type\": \"\",\n        \"description\": \"\"\n      }\n    },\n    {\n      \"column\": \"private\",\n      \"properties\": {\n        \"dtype\": \"number\",\n        \"std\": 0,\n        \"min\": 0,\n        \"max\": 1,\n        \"num_unique_values\": 2,\n        \"samples\": [\n          1,\n          0\n        ],\n        \"semantic_type\": \"\",\n        \"description\": \"\"\n      }\n    },\n    {\n      \"column\": \"#posts\",\n      \"properties\": {\n        \"dtype\": \"number\",\n        \"std\": 378,\n        \"min\": 0,\n        \"max\": 7389,\n        \"num_unique_values\": 211,\n        \"samples\": [\n          980,\n          95\n        ],\n        \"semantic_type\": \"\",\n        \"description\": \"\"\n      }\n    },\n    {\n      \"column\": \"#followers\",\n      \"properties\": {\n        \"dtype\": \"number\",\n        \"std\": 842887,\n        \"min\": 0,\n        \"max\": 15338538,\n        \"num_unique_values\": 435,\n        \"samples\": [\n          47,\n          470\n        ],\n        \"semantic_type\": \"\",\n        \"description\": \"\"\n      }\n    },\n    {\n      \"column\": \"#follows\",\n      \"properties\": {\n        \"dtype\": \"number\",\n        \"std\": 1023,\n        \"min\": 0,\n        \"max\": 7500,\n        \"num_unique_values\": 468,\n        \"samples\": [\n          283,\n          1882\n        ],\n        \"semantic_type\": \"\",\n        \"description\": \"\"\n      }\n    },\n    {\n      \"column\": \"fake\",\n      \"properties\": {\n        \"dtype\": \"number\",\n        \"std\": 0,\n        \"min\": 0,\n        \"max\": 1,\n        \"num_unique_values\": 2,\n        \"samples\": [\n          1,\n          0\n        ],\n        \"semantic_type\": \"\",\n        \"description\": \"\"\n      }\n    }\n  ]\n}"
            }
          },
          "metadata": {},
          "execution_count": 7
        }
      ]
    },
    {
      "cell_type": "markdown",
      "source": [
        "#Exploratory Data Analysis"
      ],
      "metadata": {
        "id": "Y2b5VgvGx2ip"
      }
    },
    {
      "cell_type": "code",
      "source": [
        "# dataset size\n",
        "print(\" size of dataset :\",len(df))\n"
      ],
      "metadata": {
        "colab": {
          "base_uri": "https://localhost:8080/"
        },
        "id": "t3-Wj1CN5P4f",
        "outputId": "3f120363-e760-4b11-bd8c-b2f15bb54bca"
      },
      "execution_count": null,
      "outputs": [
        {
          "output_type": "stream",
          "name": "stdout",
          "text": [
            " size of dataset : 696\n"
          ]
        }
      ]
    },
    {
      "cell_type": "code",
      "source": [
        "# target count\n",
        "target_count = df.fake.value_counts()\n",
        "target_count"
      ],
      "metadata": {
        "colab": {
          "base_uri": "https://localhost:8080/"
        },
        "id": "4hZuvg0ox1x7",
        "outputId": "2ddc70a5-c103-466e-e3de-5fbe69cedadb"
      },
      "execution_count": null,
      "outputs": [
        {
          "output_type": "execute_result",
          "data": {
            "text/plain": [
              "fake\n",
              "0    348\n",
              "1    348\n",
              "Name: count, dtype: int64"
            ]
          },
          "metadata": {},
          "execution_count": 9
        }
      ]
    },
    {
      "cell_type": "code",
      "source": [
        "print('target have {}% for non-fake and {}% for fake.'.format(round(100*(target_count[1]/target_count.sum())),\n",
        "                                                                  round(100*(target_count[0]/target_count.sum()))))"
      ],
      "metadata": {
        "colab": {
          "base_uri": "https://localhost:8080/"
        },
        "id": "M0JJzgrS5xg_",
        "outputId": "1b26663d-28a0-4983-ea20-7009443b9380"
      },
      "execution_count": null,
      "outputs": [
        {
          "output_type": "stream",
          "name": "stdout",
          "text": [
            "target have 50% for non-fake and 50% for fake.\n"
          ]
        }
      ]
    },
    {
      "cell_type": "code",
      "source": [
        "df.shape"
      ],
      "metadata": {
        "colab": {
          "base_uri": "https://localhost:8080/"
        },
        "id": "4FWFPM6V55_v",
        "outputId": "c893f57a-7092-4854-edc6-c451812c3108"
      },
      "execution_count": null,
      "outputs": [
        {
          "output_type": "execute_result",
          "data": {
            "text/plain": [
              "(696, 12)"
            ]
          },
          "metadata": {},
          "execution_count": 11
        }
      ]
    },
    {
      "cell_type": "code",
      "source": [
        "# graphical analysis\n",
        "plt.figure(dpi=60,figsize=(12,4))\n",
        "sns.countplot(x ='fake', data=df, hue = \"fake\")\n",
        "plt.xticks(rotation =80)\n",
        "plt.title('dataset label count')\n",
        "plt.show()"
      ],
      "metadata": {
        "colab": {
          "base_uri": "https://localhost:8080/",
          "height": 54
        },
        "id": "qWfrOjzm60dF",
        "outputId": "d68e5272-fd72-4db1-a135-a08835ca4891"
      },
      "execution_count": null,
      "outputs": [
        {
          "output_type": "display_data",
          "data": {
            "text/plain": [
              "<Figure size 720x240 with 1 Axes>"
            ],
            "image/png": "[encoded data removed]"
          },
          "metadata": {}
        }
      ]
    },
    {
      "cell_type": "code",
      "source": [
        "# correlation between features\n",
        "plt.figure(figsize=(10,10))\n",
        "sns.heatmap(df.corr(), annot=True, cmap='coolwarm')\n",
        "\n",
        "plt.show()"
      ],
      "metadata": {
        "colab": {
          "base_uri": "https://localhost:8080/",
          "height": 54
        },
        "id": "AguIqHE77KJK",
        "outputId": "76876afe-93f2-4309-fbc5-d1ccd013d605"
      },
      "execution_count": null,
      "outputs": [
        {
          "output_type": "display_data",
          "data": {
            "text/plain": [
              "<Figure size 1000x1000 with 2 Axes>"
            ],
            "image/png": "[encoded data removed]"
          },
          "metadata": {}
        }
      ]
    },
    {
      "cell_type": "code",
      "source": [
        "# Check descriptive statistics\n",
        "df.describe()"
      ],
      "metadata": {
        "colab": {
          "base_uri": "https://localhost:8080/",
          "height": 355
        },
        "id": "4uEv_XkI8GUq",
        "outputId": "8783367a-cacc-4bec-dd6d-cafafeafb0ce"
      },
      "execution_count": null,
      "outputs": [
        {
          "output_type": "execute_result",
          "data": {
            "text/plain": [
              "       profile pic  nums/length username  fullname words  \\\n",
              "count   696.000000            696.000000      696.000000   \n",
              "mean      0.711207              0.166609        1.475575   \n",
              "std       0.453527              0.218964        1.076622   \n",
              "min       0.000000              0.000000        0.000000   \n",
              "25%       0.000000              0.000000        1.000000   \n",
              "50%       1.000000              0.000000        1.000000   \n",
              "75%       1.000000              0.330000        2.000000   \n",
              "max       1.000000              0.920000       12.000000   \n",
              "\n",
              "       nums/length fullname  name==username  description length  external URL  \\\n",
              "count            696.000000      696.000000          696.000000    696.000000   \n",
              "mean               0.042170        0.035920           23.412356      0.113506   \n",
              "std                0.143664        0.186223           38.595721      0.317438   \n",
              "min                0.000000        0.000000            0.000000      0.000000   \n",
              "25%                0.000000        0.000000            0.000000      0.000000   \n",
              "50%                0.000000        0.000000            0.000000      0.000000   \n",
              "75%                0.000000        0.000000           35.000000      0.000000   \n",
              "max                1.000000        1.000000          150.000000      1.000000   \n",
              "\n",
              "          private       #posts    #followers     #follows       fake  \n",
              "count  696.000000   696.000000  6.960000e+02   696.000000  696.00000  \n",
              "mean     0.369253   103.244253  7.914991e+04   555.086207    0.50000  \n",
              "std      0.482950   378.028168  8.428875e+05  1023.613869    0.50036  \n",
              "min      0.000000     0.000000  0.000000e+00     0.000000    0.00000  \n",
              "25%      0.000000     0.000000  4.200000e+01    61.000000    0.00000  \n",
              "50%      0.000000     9.000000  1.655000e+02   252.000000    0.50000  \n",
              "75%      1.000000    77.000000  6.930000e+02   601.750000    1.00000  \n",
              "max      1.000000  7389.000000  1.533854e+07  7500.000000    1.00000  "
            ],
            "text/html": [
              "\n",
              "  <div id=\"df-e54fa22b-72b1-4a71-bfe0-970cf1727f1a\" class=\"colab-df-container\">\n",
              "    <div>\n",
              "<style scoped>\n",
              "    .dataframe tbody tr th:only-of-type {\n",
              "        vertical-align: middle;\n",
              "    }\n",
              "\n",
              "    .dataframe tbody tr th {\n",
              "        vertical-align: top;\n",
              "    }\n",
              "\n",
              "    .dataframe thead th {\n",
              "        text-align: right;\n",
              "    }\n",
              "</style>\n",
              "<table border=\"1\" class=\"dataframe\">\n",
              "  <thead>\n",
              "    <tr style=\"text-align: right;\">\n",
              "      <th></th>\n",
              "      <th>profile pic</th>\n",
              "      <th>nums/length username</th>\n",
              "      <th>fullname words</th>\n",
              "      <th>nums/length fullname</th>\n",
              "      <th>name==username</th>\n",
              "      <th>description length</th>\n",
              "      <th>external URL</th>\n",
              "      <th>private</th>\n",
              "      <th>#posts</th>\n",
              "      <th>#followers</th>\n",
              "      <th>#follows</th>\n",
              "      <th>fake</th>\n",
              "    </tr>\n",
              "  </thead>\n",
              "  <tbody>\n",
              "    <tr>\n",
              "      <th>count</th>\n",
              "      <td>696.000000</td>\n",
              "      <td>696.000000</td>\n",
              "      <td>696.000000</td>\n",
              "      <td>696.000000</td>\n",
              "      <td>696.000000</td>\n",
              "      <td>696.000000</td>\n",
              "      <td>696.000000</td>\n",
              "      <td>696.000000</td>\n",
              "      <td>696.000000</td>\n",
              "      <td>6.960000e+02</td>\n",
              "      <td>696.000000</td>\n",
              "      <td>696.00000</td>\n",
              "    </tr>\n",
              "    <tr>\n",
              "      <th>mean</th>\n",
              "      <td>0.711207</td>\n",
              "      <td>0.166609</td>\n",
              "      <td>1.475575</td>\n",
              "      <td>0.042170</td>\n",
              "      <td>0.035920</td>\n",
              "      <td>23.412356</td>\n",
              "      <td>0.113506</td>\n",
              "      <td>0.369253</td>\n",
              "      <td>103.244253</td>\n",
              "      <td>7.914991e+04</td>\n",
              "      <td>555.086207</td>\n",
              "      <td>0.50000</td>\n",
              "    </tr>\n",
              "    <tr>\n",
              "      <th>std</th>\n",
              "      <td>0.453527</td>\n",
              "      <td>0.218964</td>\n",
              "      <td>1.076622</td>\n",
              "      <td>0.143664</td>\n",
              "      <td>0.186223</td>\n",
              "      <td>38.595721</td>\n",
              "      <td>0.317438</td>\n",
              "      <td>0.482950</td>\n",
              "      <td>378.028168</td>\n",
              "      <td>8.428875e+05</td>\n",
              "      <td>1023.613869</td>\n",
              "      <td>0.50036</td>\n",
              "    </tr>\n",
              "    <tr>\n",
              "      <th>min</th>\n",
              "      <td>0.000000</td>\n",
              "      <td>0.000000</td>\n",
              "      <td>0.000000</td>\n",
              "      <td>0.000000</td>\n",
              "      <td>0.000000</td>\n",
              "      <td>0.000000</td>\n",
              "      <td>0.000000</td>\n",
              "      <td>0.000000</td>\n",
              "      <td>0.000000</td>\n",
              "      <td>0.000000e+00</td>\n",
              "      <td>0.000000</td>\n",
              "      <td>0.00000</td>\n",
              "    </tr>\n",
              "    <tr>\n",
              "      <th>25%</th>\n",
              "      <td>0.000000</td>\n",
              "      <td>0.000000</td>\n",
              "      <td>1.000000</td>\n",
              "      <td>0.000000</td>\n",
              "      <td>0.000000</td>\n",
              "      <td>0.000000</td>\n",
              "      <td>0.000000</td>\n",
              "      <td>0.000000</td>\n",
              "      <td>0.000000</td>\n",
              "      <td>4.200000e+01</td>\n",
              "      <td>61.000000</td>\n",
              "      <td>0.00000</td>\n",
              "    </tr>\n",
              "    <tr>\n",
              "      <th>50%</th>\n",
              "      <td>1.000000</td>\n",
              "      <td>0.000000</td>\n",
              "      <td>1.000000</td>\n",
              "      <td>0.000000</td>\n",
              "      <td>0.000000</td>\n",
              "      <td>0.000000</td>\n",
              "      <td>0.000000</td>\n",
              "      <td>0.000000</td>\n",
              "      <td>9.000000</td>\n",
              "      <td>1.655000e+02</td>\n",
              "      <td>252.000000</td>\n",
              "      <td>0.50000</td>\n",
              "    </tr>\n",
              "    <tr>\n",
              "      <th>75%</th>\n",
              "      <td>1.000000</td>\n",
              "      <td>0.330000</td>\n",
              "      <td>2.000000</td>\n",
              "      <td>0.000000</td>\n",
              "      <td>0.000000</td>\n",
              "      <td>35.000000</td>\n",
              "      <td>0.000000</td>\n",
              "      <td>1.000000</td>\n",
              "      <td>77.000000</td>\n",
              "      <td>6.930000e+02</td>\n",
              "      <td>601.750000</td>\n",
              "      <td>1.00000</td>\n",
              "    </tr>\n",
              "    <tr>\n",
              "      <th>max</th>\n",
              "      <td>1.000000</td>\n",
              "      <td>0.920000</td>\n",
              "      <td>12.000000</td>\n",
              "      <td>1.000000</td>\n",
              "      <td>1.000000</td>\n",
              "      <td>150.000000</td>\n",
              "      <td>1.000000</td>\n",
              "      <td>1.000000</td>\n",
              "      <td>7389.000000</td>\n",
              "      <td>1.533854e+07</td>\n",
              "      <td>7500.000000</td>\n",
              "      <td>1.00000</td>\n",
              "    </tr>\n",
              "  </tbody>\n",
              "</table>\n",
              "</div>\n",
              "    <div class=\"colab-df-buttons\">\n",
              "\n",
              "  <div class=\"colab-df-container\">\n",
              "    <button class=\"colab-df-convert\" onclick=\"convertToInteractive('df-e54fa22b-72b1-4a71-bfe0-970cf1727f1a')\"\n",
              "            title=\"Convert this dataframe to an interactive table.\"\n",
              "            style=\"display:none;\">\n",
              "\n",
              "  <svg xmlns=\"http://www.w3.org/2000/svg\" height=\"24px\" viewBox=\"0 -960 960 960\">\n",
              "    <path d=\"M120-120v-720h720v720H120Zm60-500h600v-160H180v160Zm220 220h160v-160H400v160Zm0 220h160v-160H400v160ZM180-400h160v-160H180v160Zm440 0h160v-160H620v160ZM180-180h160v-160H180v160Zm440 0h160v-160H620v160Z\"/>\n",
              "  </svg>\n",
              "    </button>\n",
              "\n",
              "  <style>\n",
              "    .colab-df-container {\n",
              "      display:flex;\n",
              "      gap: 12px;\n",
              "    }\n",
              "\n",
              "    .colab-df-convert {\n",
              "      background-color: #E8F0FE;\n",
              "      border: none;\n",
              "      border-radius: 50%;\n",
              "      cursor: pointer;\n",
              "      display: none;\n",
              "      fill: #1967D2;\n",
              "      height: 32px;\n",
              "      padding: 0 0 0 0;\n",
              "      width: 32px;\n",
              "    }\n",
              "\n",
              "    .colab-df-convert:hover {\n",
              "      background-color: #E2EBFA;\n",
              "      box-shadow: 0px 1px 2px rgba(60, 64, 67, 0.3), 0px 1px 3px 1px rgba(60, 64, 67, 0.15);\n",
              "      fill: #174EA6;\n",
              "    }\n",
              "\n",
              "    .colab-df-buttons div {\n",
              "      margin-bottom: 4px;\n",
              "    }\n",
              "\n",
              "    [theme=dark] .colab-df-convert {\n",
              "      background-color: #3B4455;\n",
              "      fill: #D2E3FC;\n",
              "    }\n",
              "\n",
              "    [theme=dark] .colab-df-convert:hover {\n",
              "      background-color: #434B5C;\n",
              "      box-shadow: 0px 1px 3px 1px rgba(0, 0, 0, 0.15);\n",
              "      filter: drop-shadow(0px 1px 2px rgba(0, 0, 0, 0.3));\n",
              "      fill: #FFFFFF;\n",
              "    }\n",
              "  </style>\n",
              "\n",
              "    <script>\n",
              "      const buttonEl =\n",
              "        document.querySelector('#df-e54fa22b-72b1-4a71-bfe0-970cf1727f1a button.colab-df-convert');\n",
              "      buttonEl.style.display =\n",
              "        google.colab.kernel.accessAllowed ? 'block' : 'none';\n",
              "\n",
              "      async function convertToInteractive(key) {\n",
              "        const element = document.querySelector('#df-e54fa22b-72b1-4a71-bfe0-970cf1727f1a');\n",
              "        const dataTable =\n",
              "          await google.colab.kernel.invokeFunction('convertToInteractive',\n",
              "                                                    [key], {});\n",
              "        if (!dataTable) return;\n",
              "\n",
              "        const docLinkHtml = 'Like what you see? Visit the ' +\n",
              "          '<a target=\"_blank\" href=https://colab.research.google.com/notebooks/data_table.ipynb>data table notebook</a>'\n",
              "          + ' to learn more about interactive tables.';\n",
              "        element.innerHTML = '';\n",
              "        dataTable['output_type'] = 'display_data';\n",
              "        await google.colab.output.renderOutput(dataTable, element);\n",
              "        const docLink = document.createElement('div');\n",
              "        docLink.innerHTML = docLinkHtml;\n",
              "        element.appendChild(docLink);\n",
              "      }\n",
              "    </script>\n",
              "  </div>\n",
              "\n",
              "\n",
              "<div id=\"df-a6591dea-e6e7-4b4e-96b1-e85bafb61739\">\n",
              "  <button class=\"colab-df-quickchart\" onclick=\"quickchart('df-a6591dea-e6e7-4b4e-96b1-e85bafb61739')\"\n",
              "            title=\"Suggest charts\"\n",
              "            style=\"display:none;\">\n",
              "\n",
              "<svg xmlns=\"http://www.w3.org/2000/svg\" height=\"24px\"viewBox=\"0 0 24 24\"\n",
              "     width=\"24px\">\n",
              "    <g>\n",
              "        <path d=\"M19 3H5c-1.1 0-2 .9-2 2v14c0 1.1.9 2 2 2h14c1.1 0 2-.9 2-2V5c0-1.1-.9-2-2-2zM9 17H7v-7h2v7zm4 0h-2V7h2v10zm4 0h-2v-4h2v4z\"/>\n",
              "    </g>\n",
              "</svg>\n",
              "  </button>\n",
              "\n",
              "<style>\n",
              "  .colab-df-quickchart {\n",
              "      --bg-color: #E8F0FE;\n",
              "      --fill-color: #1967D2;\n",
              "      --hover-bg-color: #E2EBFA;\n",
              "      --hover-fill-color: #174EA6;\n",
              "      --disabled-fill-color: #AAA;\n",
              "      --disabled-bg-color: #DDD;\n",
              "  }\n",
              "\n",
              "  [theme=dark] .colab-df-quickchart {\n",
              "      --bg-color: #3B4455;\n",
              "      --fill-color: #D2E3FC;\n",
              "      --hover-bg-color: #434B5C;\n",
              "      --hover-fill-color: #FFFFFF;\n",
              "      --disabled-bg-color: #3B4455;\n",
              "      --disabled-fill-color: #666;\n",
              "  }\n",
              "\n",
              "  .colab-df-quickchart {\n",
              "    background-color: var(--bg-color);\n",
              "    border: none;\n",
              "    border-radius: 50%;\n",
              "    cursor: pointer;\n",
              "    display: none;\n",
              "    fill: var(--fill-color);\n",
              "    height: 32px;\n",
              "    padding: 0;\n",
              "    width: 32px;\n",
              "  }\n",
              "\n",
              "  .colab-df-quickchart:hover {\n",
              "    background-color: var(--hover-bg-color);\n",
              "    box-shadow: 0 1px 2px rgba(60, 64, 67, 0.3), 0 1px 3px 1px rgba(60, 64, 67, 0.15);\n",
              "    fill: var(--button-hover-fill-color);\n",
              "  }\n",
              "\n",
              "  .colab-df-quickchart-complete:disabled,\n",
              "  .colab-df-quickchart-complete:disabled:hover {\n",
              "    background-color: var(--disabled-bg-color);\n",
              "    fill: var(--disabled-fill-color);\n",
              "    box-shadow: none;\n",
              "  }\n",
              "\n",
              "  .colab-df-spinner {\n",
              "    border: 2px solid var(--fill-color);\n",
              "    border-color: transparent;\n",
              "    border-bottom-color: var(--fill-color);\n",
              "    animation:\n",
              "      spin 1s steps(1) infinite;\n",
              "  }\n",
              "\n",
              "  @keyframes spin {\n",
              "    0% {\n",
              "      border-color: transparent;\n",
              "      border-bottom-color: var(--fill-color);\n",
              "      border-left-color: var(--fill-color);\n",
              "    }\n",
              "    20% {\n",
              "      border-color: transparent;\n",
              "      border-left-color: var(--fill-color);\n",
              "      border-top-color: var(--fill-color);\n",
              "    }\n",
              "    30% {\n",
              "      border-color: transparent;\n",
              "      border-left-color: var(--fill-color);\n",
              "      border-top-color: var(--fill-color);\n",
              "      border-right-color: var(--fill-color);\n",
              "    }\n",
              "    40% {\n",
              "      border-color: transparent;\n",
              "      border-right-color: var(--fill-color);\n",
              "      border-top-color: var(--fill-color);\n",
              "    }\n",
              "    60% {\n",
              "      border-color: transparent;\n",
              "      border-right-color: var(--fill-color);\n",
              "    }\n",
              "    80% {\n",
              "      border-color: transparent;\n",
              "      border-right-color: var(--fill-color);\n",
              "      border-bottom-color: var(--fill-color);\n",
              "    }\n",
              "    90% {\n",
              "      border-color: transparent;\n",
              "      border-bottom-color: var(--fill-color);\n",
              "    }\n",
              "  }\n",
              "</style>\n",
              "\n",
              "  <script>\n",
              "    async function quickchart(key) {\n",
              "      const quickchartButtonEl =\n",
              "        document.querySelector('#' + key + ' button');\n",
              "      quickchartButtonEl.disabled = true;  // To prevent multiple clicks.\n",
              "      quickchartButtonEl.classList.add('colab-df-spinner');\n",
              "      try {\n",
              "        const charts = await google.colab.kernel.invokeFunction(\n",
              "            'suggestCharts', [key], {});\n",
              "      } catch (error) {\n",
              "        console.error('Error during call to suggestCharts:', error);\n",
              "      }\n",
              "      quickchartButtonEl.classList.remove('colab-df-spinner');\n",
              "      quickchartButtonEl.classList.add('colab-df-quickchart-complete');\n",
              "    }\n",
              "    (() => {\n",
              "      let quickchartButtonEl =\n",
              "        document.querySelector('#df-a6591dea-e6e7-4b4e-96b1-e85bafb61739 button');\n",
              "      quickchartButtonEl.style.display =\n",
              "        google.colab.kernel.accessAllowed ? 'block' : 'none';\n",
              "    })();\n",
              "  </script>\n",
              "</div>\n",
              "\n",
              "    </div>\n",
              "  </div>\n"
            ],
            "application/vnd.google.colaboratory.intrinsic+json": {
              "type": "dataframe",
              "summary": "{\n  \"name\": \"df\",\n  \"rows\": 8,\n  \"fields\": [\n    {\n      \"column\": \"profile pic\",\n      \"properties\": {\n        \"dtype\": \"number\",\n        \"std\": 245.8631674019657,\n        \"min\": 0.0,\n        \"max\": 696.0,\n        \"num_unique_values\": 5,\n        \"samples\": [\n          0.7112068965517241,\n          1.0,\n          0.4535274792098184\n        ],\n        \"semantic_type\": \"\",\n        \"description\": \"\"\n      }\n    },\n    {\n      \"column\": \"nums/length username\",\n      \"properties\": {\n        \"dtype\": \"number\",\n        \"std\": 245.99073936114544,\n        \"min\": 0.0,\n        \"max\": 696.0,\n        \"num_unique_values\": 6,\n        \"samples\": [\n          696.0,\n          0.16660919540229885,\n          0.92\n        ],\n        \"semantic_type\": \"\",\n        \"description\": \"\"\n      }\n    },\n    {\n      \"column\": \"fullname words\",\n      \"properties\": {\n        \"dtype\": \"number\",\n        \"std\": 245.16648314968873,\n        \"min\": 0.0,\n        \"max\": 696.0,\n        \"num_unique_values\": 7,\n        \"samples\": [\n          696.0,\n          1.4755747126436782,\n          2.0\n        ],\n        \"semantic_type\": \"\",\n        \"description\": \"\"\n      }\n    },\n    {\n      \"column\": \"nums/length fullname\",\n      \"properties\": {\n        \"dtype\": \"number\",\n        \"std\": 246.01350472146666,\n        \"min\": 0.0,\n        \"max\": 696.0,\n        \"num_unique_values\": 5,\n        \"samples\": [\n          0.04216954022988506,\n          1.0,\n          0.14366439706669326\n        ],\n        \"semantic_type\": \"\",\n        \"description\": \"\"\n      }\n    },\n    {\n      \"column\": \"name==username\",\n      \"properties\": {\n        \"dtype\": \"number\",\n        \"std\": 246.0116711500515,\n        \"min\": 0.0,\n        \"max\": 696.0,\n        \"num_unique_values\": 5,\n        \"samples\": [\n          0.035919540229885055,\n          1.0,\n          0.1862233960305225\n        ],\n        \"semantic_type\": \"\",\n        \"description\": \"\"\n      }\n    },\n    {\n      \"column\": \"description length\",\n      \"properties\": {\n        \"dtype\": \"number\",\n        \"std\": 238.75293230600755,\n        \"min\": 0.0,\n        \"max\": 696.0,\n        \"num_unique_values\": 6,\n        \"samples\": [\n          696.0,\n          23.41235632183908,\n          150.0\n        ],\n        \"semantic_type\": \"\",\n        \"description\": \"\"\n      }\n    },\n    {\n      \"column\": \"external URL\",\n      \"properties\": {\n        \"dtype\": \"number\",\n        \"std\": 246.00112469665754,\n        \"min\": 0.0,\n        \"max\": 696.0,\n        \"num_unique_values\": 5,\n        \"samples\": [\n          0.11350574712643678,\n          1.0,\n          0.3174381398458502\n        ],\n        \"semantic_type\": \"\",\n        \"description\": \"\"\n      }\n    },\n    {\n      \"column\": \"private\",\n      \"properties\": {\n        \"dtype\": \"number\",\n        \"std\": 245.92945256642787,\n        \"min\": 0.0,\n        \"max\": 696.0,\n        \"num_unique_values\": 5,\n        \"samples\": [\n          0.3692528735632184,\n          1.0,\n          0.48294958775039604\n        ],\n        \"semantic_type\": \"\",\n        \"description\": \"\"\n      }\n    },\n    {\n      \"column\": \"#posts\",\n      \"properties\": {\n        \"dtype\": \"number\",\n        \"std\": 2560.233929496282,\n        \"min\": 0.0,\n        \"max\": 7389.0,\n        \"num_unique_values\": 7,\n        \"samples\": [\n          696.0,\n          103.24425287356321,\n          77.0\n        ],\n        \"semantic_type\": \"\",\n        \"description\": \"\"\n      }\n    },\n    {\n      \"column\": \"#followers\",\n      \"properties\": {\n        \"dtype\": \"number\",\n        \"std\": 5384238.817955118,\n        \"min\": 0.0,\n        \"max\": 15338538.0,\n        \"num_unique_values\": 8,\n        \"samples\": [\n          79149.9051724138,\n          165.5,\n          696.0\n        ],\n        \"semantic_type\": \"\",\n        \"description\": \"\"\n      }\n    },\n    {\n      \"column\": \"#follows\",\n      \"properties\": {\n        \"dtype\": \"number\",\n        \"std\": 2513.864618655213,\n        \"min\": 0.0,\n        \"max\": 7500.0,\n        \"num_unique_values\": 8,\n        \"samples\": [\n          555.0862068965517,\n          252.0,\n          696.0\n        ],\n        \"semantic_type\": \"\",\n        \"description\": \"\"\n      }\n    },\n    {\n      \"column\": \"fake\",\n      \"properties\": {\n        \"dtype\": \"number\",\n        \"std\": 245.89665547822295,\n        \"min\": 0.0,\n        \"max\": 696.0,\n        \"num_unique_values\": 5,\n        \"samples\": [\n          0.5,\n          1.0,\n          0.500359582930332\n        ],\n        \"semantic_type\": \"\",\n        \"description\": \"\"\n      }\n    }\n  ]\n}"
            }
          },
          "metadata": {},
          "execution_count": 14
        }
      ]
    },
    {
      "cell_type": "code",
      "source": [
        "df.info()"
      ],
      "metadata": {
        "colab": {
          "base_uri": "https://localhost:8080/"
        },
        "id": "Ui2aXg-G-Sp-",
        "outputId": "66bc415d-d14b-422e-ac02-46f3a3d49089"
      },
      "execution_count": null,
      "outputs": [
        {
          "output_type": "stream",
          "name": "stdout",
          "text": [
            "<class 'pandas.core.frame.DataFrame'>\n",
            "RangeIndex: 696 entries, 0 to 695\n",
            "Data columns (total 12 columns):\n",
            " #   Column                Non-Null Count  Dtype  \n",
            "---  ------                --------------  -----  \n",
            " 0   profile pic           696 non-null    int64  \n",
            " 1   nums/length username  696 non-null    float64\n",
            " 2   fullname words        696 non-null    int64  \n",
            " 3   nums/length fullname  696 non-null    float64\n",
            " 4   name==username        696 non-null    int64  \n",
            " 5   description length    696 non-null    int64  \n",
            " 6   external URL          696 non-null    int64  \n",
            " 7   private               696 non-null    int64  \n",
            " 8   #posts                696 non-null    int64  \n",
            " 9   #followers            696 non-null    int64  \n",
            " 10  #follows              696 non-null    int64  \n",
            " 11  fake                  696 non-null    int64  \n",
            "dtypes: float64(2), int64(10)\n",
            "memory usage: 65.4 KB\n"
          ]
        }
      ]
    },
    {
      "cell_type": "markdown",
      "source": [
        "#Preprocessing"
      ],
      "metadata": {
        "id": "Xfgp7KI68vvW"
      }
    },
    {
      "cell_type": "code",
      "source": [
        "# Check  the missing values\n",
        "\n",
        "percent_missing = df.isnull().sum() * 100 / len(df)\n",
        "missing_value_df = pd.DataFrame({'percent_missing (%)': percent_missing})\n",
        "missing_value_df.sort_values('percent_missing (%)', ascending=False)"
      ],
      "metadata": {
        "colab": {
          "base_uri": "https://localhost:8080/",
          "height": 515
        },
        "id": "z2f-WMjk8eq4",
        "outputId": "17293405-dd7b-47bf-d478-98fb5251aabb"
      },
      "execution_count": null,
      "outputs": [
        {
          "output_type": "execute_result",
          "data": {
            "text/plain": [
              "                      percent_missing (%)\n",
              "profile pic                           0.0\n",
              "nums/length username                  0.0\n",
              "fullname words                        0.0\n",
              "nums/length fullname                  0.0\n",
              "name==username                        0.0\n",
              "description length                    0.0\n",
              "external URL                          0.0\n",
              "private                               0.0\n",
              "#posts                                0.0\n",
              "#followers                            0.0\n",
              "#follows                              0.0\n",
              "fake                                  0.0"
            ],
            "text/html": [
              "\n",
              "  <div id=\"df-81ef9128-721d-478b-a89b-3187cfab357a\" class=\"colab-df-container\">\n",
              "    <div>\n",
              "<style scoped>\n",
              "    .dataframe tbody tr th:only-of-type {\n",
              "        vertical-align: middle;\n",
              "    }\n",
              "\n",
              "    .dataframe tbody tr th {\n",
              "        vertical-align: top;\n",
              "    }\n",
              "\n",
              "    .dataframe thead th {\n",
              "        text-align: right;\n",
              "    }\n",
              "</style>\n",
              "<table border=\"1\" class=\"dataframe\">\n",
              "  <thead>\n",
              "    <tr style=\"text-align: right;\">\n",
              "      <th></th>\n",
              "      <th>percent_missing (%)</th>\n",
              "    </tr>\n",
              "  </thead>\n",
              "  <tbody>\n",
              "    <tr>\n",
              "      <th>profile pic</th>\n",
              "      <td>0.0</td>\n",
              "    </tr>\n",
              "    <tr>\n",
              "      <th>nums/length username</th>\n",
              "      <td>0.0</td>\n",
              "    </tr>\n",
              "    <tr>\n",
              "      <th>fullname words</th>\n",
              "      <td>0.0</td>\n",
              "    </tr>\n",
              "    <tr>\n",
              "      <th>nums/length fullname</th>\n",
              "      <td>0.0</td>\n",
              "    </tr>\n",
              "    <tr>\n",
              "      <th>name==username</th>\n",
              "      <td>0.0</td>\n",
              "    </tr>\n",
              "    <tr>\n",
              "      <th>description length</th>\n",
              "      <td>0.0</td>\n",
              "    </tr>\n",
              "    <tr>\n",
              "      <th>external URL</th>\n",
              "      <td>0.0</td>\n",
              "    </tr>\n",
              "    <tr>\n",
              "      <th>private</th>\n",
              "      <td>0.0</td>\n",
              "    </tr>\n",
              "    <tr>\n",
              "      <th>#posts</th>\n",
              "      <td>0.0</td>\n",
              "    </tr>\n",
              "    <tr>\n",
              "      <th>#followers</th>\n",
              "      <td>0.0</td>\n",
              "    </tr>\n",
              "    <tr>\n",
              "      <th>#follows</th>\n",
              "      <td>0.0</td>\n",
              "    </tr>\n",
              "    <tr>\n",
              "      <th>fake</th>\n",
              "      <td>0.0</td>\n",
              "    </tr>\n",
              "  </tbody>\n",
              "</table>\n",
              "</div>\n",
              "    <div class=\"colab-df-buttons\">\n",
              "\n",
              "  <div class=\"colab-df-container\">\n",
              "    <button class=\"colab-df-convert\" onclick=\"convertToInteractive('df-81ef9128-721d-478b-a89b-3187cfab357a')\"\n",
              "            title=\"Convert this dataframe to an interactive table.\"\n",
              "            style=\"display:none;\">\n",
              "\n",
              "  <svg xmlns=\"http://www.w3.org/2000/svg\" height=\"24px\" viewBox=\"0 -960 960 960\">\n",
              "    <path d=\"M120-120v-720h720v720H120Zm60-500h600v-160H180v160Zm220 220h160v-160H400v160Zm0 220h160v-160H400v160ZM180-400h160v-160H180v160Zm440 0h160v-160H620v160ZM180-180h160v-160H180v160Zm440 0h160v-160H620v160Z\"/>\n",
              "  </svg>\n",
              "    </button>\n",
              "\n",
              "  <style>\n",
              "    .colab-df-container {\n",
              "      display:flex;\n",
              "      gap: 12px;\n",
              "    }\n",
              "\n",
              "    .colab-df-convert {\n",
              "      background-color: #E8F0FE;\n",
              "      border: none;\n",
              "      border-radius: 50%;\n",
              "      cursor: pointer;\n",
              "      display: none;\n",
              "      fill: #1967D2;\n",
              "      height: 32px;\n",
              "      padding: 0 0 0 0;\n",
              "      width: 32px;\n",
              "    }\n",
              "\n",
              "    .colab-df-convert:hover {\n",
              "      background-color: #E2EBFA;\n",
              "      box-shadow: 0px 1px 2px rgba(60, 64, 67, 0.3), 0px 1px 3px 1px rgba(60, 64, 67, 0.15);\n",
              "      fill: #174EA6;\n",
              "    }\n",
              "\n",
              "    .colab-df-buttons div {\n",
              "      margin-bottom: 4px;\n",
              "    }\n",
              "\n",
              "    [theme=dark] .colab-df-convert {\n",
              "      background-color: #3B4455;\n",
              "      fill: #D2E3FC;\n",
              "    }\n",
              "\n",
              "    [theme=dark] .colab-df-convert:hover {\n",
              "      background-color: #434B5C;\n",
              "      box-shadow: 0px 1px 3px 1px rgba(0, 0, 0, 0.15);\n",
              "      filter: drop-shadow(0px 1px 2px rgba(0, 0, 0, 0.3));\n",
              "      fill: #FFFFFF;\n",
              "    }\n",
              "  </style>\n",
              "\n",
              "    <script>\n",
              "      const buttonEl =\n",
              "        document.querySelector('#df-81ef9128-721d-478b-a89b-3187cfab357a button.colab-df-convert');\n",
              "      buttonEl.style.display =\n",
              "        google.colab.kernel.accessAllowed ? 'block' : 'none';\n",
              "\n",
              "      async function convertToInteractive(key) {\n",
              "        const element = document.querySelector('#df-81ef9128-721d-478b-a89b-3187cfab357a');\n",
              "        const dataTable =\n",
              "          await google.colab.kernel.invokeFunction('convertToInteractive',\n",
              "                                                    [key], {});\n",
              "        if (!dataTable) return;\n",
              "\n",
              "        const docLinkHtml = 'Like what you see? Visit the ' +\n",
              "          '<a target=\"_blank\" href=https://colab.research.google.com/notebooks/data_table.ipynb>data table notebook</a>'\n",
              "          + ' to learn more about interactive tables.';\n",
              "        element.innerHTML = '';\n",
              "        dataTable['output_type'] = 'display_data';\n",
              "        await google.colab.output.renderOutput(dataTable, element);\n",
              "        const docLink = document.createElement('div');\n",
              "        docLink.innerHTML = docLinkHtml;\n",
              "        element.appendChild(docLink);\n",
              "      }\n",
              "    </script>\n",
              "  </div>\n",
              "\n",
              "\n",
              "<div id=\"df-f1c6c0e2-53be-4ed3-a2b1-3a959f852ff9\">\n",
              "  <button class=\"colab-df-quickchart\" onclick=\"quickchart('df-f1c6c0e2-53be-4ed3-a2b1-3a959f852ff9')\"\n",
              "            title=\"Suggest charts\"\n",
              "            style=\"display:none;\">\n",
              "\n",
              "<svg xmlns=\"http://www.w3.org/2000/svg\" height=\"24px\"viewBox=\"0 0 24 24\"\n",
              "     width=\"24px\">\n",
              "    <g>\n",
              "        <path d=\"M19 3H5c-1.1 0-2 .9-2 2v14c0 1.1.9 2 2 2h14c1.1 0 2-.9 2-2V5c0-1.1-.9-2-2-2zM9 17H7v-7h2v7zm4 0h-2V7h2v10zm4 0h-2v-4h2v4z\"/>\n",
              "    </g>\n",
              "</svg>\n",
              "  </button>\n",
              "\n",
              "<style>\n",
              "  .colab-df-quickchart {\n",
              "      --bg-color: #E8F0FE;\n",
              "      --fill-color: #1967D2;\n",
              "      --hover-bg-color: #E2EBFA;\n",
              "      --hover-fill-color: #174EA6;\n",
              "      --disabled-fill-color: #AAA;\n",
              "      --disabled-bg-color: #DDD;\n",
              "  }\n",
              "\n",
              "  [theme=dark] .colab-df-quickchart {\n",
              "      --bg-color: #3B4455;\n",
              "      --fill-color: #D2E3FC;\n",
              "      --hover-bg-color: #434B5C;\n",
              "      --hover-fill-color: #FFFFFF;\n",
              "      --disabled-bg-color: #3B4455;\n",
              "      --disabled-fill-color: #666;\n",
              "  }\n",
              "\n",
              "  .colab-df-quickchart {\n",
              "    background-color: var(--bg-color);\n",
              "    border: none;\n",
              "    border-radius: 50%;\n",
              "    cursor: pointer;\n",
              "    display: none;\n",
              "    fill: var(--fill-color);\n",
              "    height: 32px;\n",
              "    padding: 0;\n",
              "    width: 32px;\n",
              "  }\n",
              "\n",
              "  .colab-df-quickchart:hover {\n",
              "    background-color: var(--hover-bg-color);\n",
              "    box-shadow: 0 1px 2px rgba(60, 64, 67, 0.3), 0 1px 3px 1px rgba(60, 64, 67, 0.15);\n",
              "    fill: var(--button-hover-fill-color);\n",
              "  }\n",
              "\n",
              "  .colab-df-quickchart-complete:disabled,\n",
              "  .colab-df-quickchart-complete:disabled:hover {\n",
              "    background-color: var(--disabled-bg-color);\n",
              "    fill: var(--disabled-fill-color);\n",
              "    box-shadow: none;\n",
              "  }\n",
              "\n",
              "  .colab-df-spinner {\n",
              "    border: 2px solid var(--fill-color);\n",
              "    border-color: transparent;\n",
              "    border-bottom-color: var(--fill-color);\n",
              "    animation:\n",
              "      spin 1s steps(1) infinite;\n",
              "  }\n",
              "\n",
              "  @keyframes spin {\n",
              "    0% {\n",
              "      border-color: transparent;\n",
              "      border-bottom-color: var(--fill-color);\n",
              "      border-left-color: var(--fill-color);\n",
              "    }\n",
              "    20% {\n",
              "      border-color: transparent;\n",
              "      border-left-color: var(--fill-color);\n",
              "      border-top-color: var(--fill-color);\n",
              "    }\n",
              "    30% {\n",
              "      border-color: transparent;\n",
              "      border-left-color: var(--fill-color);\n",
              "      border-top-color: var(--fill-color);\n",
              "      border-right-color: var(--fill-color);\n",
              "    }\n",
              "    40% {\n",
              "      border-color: transparent;\n",
              "      border-right-color: var(--fill-color);\n",
              "      border-top-color: var(--fill-color);\n",
              "    }\n",
              "    60% {\n",
              "      border-color: transparent;\n",
              "      border-right-color: var(--fill-color);\n",
              "    }\n",
              "    80% {\n",
              "      border-color: transparent;\n",
              "      border-right-color: var(--fill-color);\n",
              "      border-bottom-color: var(--fill-color);\n",
              "    }\n",
              "    90% {\n",
              "      border-color: transparent;\n",
              "      border-bottom-color: var(--fill-color);\n",
              "    }\n",
              "  }\n",
              "</style>\n",
              "\n",
              "  <script>\n",
              "    async function quickchart(key) {\n",
              "      const quickchartButtonEl =\n",
              "        document.querySelector('#' + key + ' button');\n",
              "      quickchartButtonEl.disabled = true;  // To prevent multiple clicks.\n",
              "      quickchartButtonEl.classList.add('colab-df-spinner');\n",
              "      try {\n",
              "        const charts = await google.colab.kernel.invokeFunction(\n",
              "            'suggestCharts', [key], {});\n",
              "      } catch (error) {\n",
              "        console.error('Error during call to suggestCharts:', error);\n",
              "      }\n",
              "      quickchartButtonEl.classList.remove('colab-df-spinner');\n",
              "      quickchartButtonEl.classList.add('colab-df-quickchart-complete');\n",
              "    }\n",
              "    (() => {\n",
              "      let quickchartButtonEl =\n",
              "        document.querySelector('#df-f1c6c0e2-53be-4ed3-a2b1-3a959f852ff9 button');\n",
              "      quickchartButtonEl.style.display =\n",
              "        google.colab.kernel.accessAllowed ? 'block' : 'none';\n",
              "    })();\n",
              "  </script>\n",
              "</div>\n",
              "\n",
              "    </div>\n",
              "  </div>\n"
            ],
            "application/vnd.google.colaboratory.intrinsic+json": {
              "type": "dataframe",
              "summary": "{\n  \"name\": \"missing_value_df\",\n  \"rows\": 12,\n  \"fields\": [\n    {\n      \"column\": \"percent_missing (%)\",\n      \"properties\": {\n        \"dtype\": \"number\",\n        \"std\": 0.0,\n        \"min\": 0.0,\n        \"max\": 0.0,\n        \"num_unique_values\": 1,\n        \"samples\": [\n          0.0\n        ],\n        \"semantic_type\": \"\",\n        \"description\": \"\"\n      }\n    }\n  ]\n}"
            }
          },
          "metadata": {},
          "execution_count": 16
        }
      ]
    },
    {
      "cell_type": "code",
      "source": [
        "# check nan values\n",
        "df.isna().any()"
      ],
      "metadata": {
        "colab": {
          "base_uri": "https://localhost:8080/"
        },
        "id": "BqtjJg3d86yr",
        "outputId": "33dd2362-3273-4295-c8a0-b47524dd2b64"
      },
      "execution_count": null,
      "outputs": [
        {
          "output_type": "execute_result",
          "data": {
            "text/plain": [
              "profile pic             False\n",
              "nums/length username    False\n",
              "fullname words          False\n",
              "nums/length fullname    False\n",
              "name==username          False\n",
              "description length      False\n",
              "external URL            False\n",
              "private                 False\n",
              "#posts                  False\n",
              "#followers              False\n",
              "#follows                False\n",
              "fake                    False\n",
              "dtype: bool"
            ]
          },
          "metadata": {},
          "execution_count": 17
        }
      ]
    },
    {
      "cell_type": "code",
      "source": [
        "# check  duplicated rows\n",
        "df_duplicated = df[df.duplicated(keep=False)]\n",
        "df_duplicated"
      ],
      "metadata": {
        "colab": {
          "base_uri": "https://localhost:8080/",
          "height": 355
        },
        "id": "f3IFjpNV9H0i",
        "outputId": "3a7447fd-ae9f-4634-808c-466d3b021bf9"
      },
      "execution_count": null,
      "outputs": [
        {
          "output_type": "execute_result",
          "data": {
            "text/plain": [
              "     profile pic  nums/length username  fullname words  nums/length fullname  \\\n",
              "196            1                  0.00               2                   0.0   \n",
              "197            1                  0.00               2                   0.0   \n",
              "491            1                  0.91               1                   0.0   \n",
              "525            1                  0.91               1                   0.0   \n",
              "637            1                  0.27               1                   0.0   \n",
              "639            0                  0.00               1                   0.0   \n",
              "643            0                  0.00               1                   0.0   \n",
              "659            1                  0.27               1                   0.0   \n",
              "\n",
              "     name==username  description length  external URL  private  #posts  \\\n",
              "196               0                  48             0        0     222   \n",
              "197               0                  48             0        0     222   \n",
              "491               0                   0             0        0       0   \n",
              "525               0                   0             0        0       0   \n",
              "637               0                   0             0        0       0   \n",
              "639               1                   0             0        0       0   \n",
              "643               1                   0             0        0       0   \n",
              "659               0                   0             0        0       0   \n",
              "\n",
              "     #followers  #follows  fake  \n",
              "196        5282       652     0  \n",
              "197        5282       652     0  \n",
              "491          75        26     1  \n",
              "525          75        26     1  \n",
              "637          45        64     1  \n",
              "639          69       694     1  \n",
              "643          69       694     1  \n",
              "659          45        64     1  "
            ],
            "text/html": [
              "\n",
              "  <div id=\"df-b93540c7-2f7c-43fb-b259-1ba2e5a3b761\" class=\"colab-df-container\">\n",
              "    <div>\n",
              "<style scoped>\n",
              "    .dataframe tbody tr th:only-of-type {\n",
              "        vertical-align: middle;\n",
              "    }\n",
              "\n",
              "    .dataframe tbody tr th {\n",
              "        vertical-align: top;\n",
              "    }\n",
              "\n",
              "    .dataframe thead th {\n",
              "        text-align: right;\n",
              "    }\n",
              "</style>\n",
              "<table border=\"1\" class=\"dataframe\">\n",
              "  <thead>\n",
              "    <tr style=\"text-align: right;\">\n",
              "      <th></th>\n",
              "      <th>profile pic</th>\n",
              "      <th>nums/length username</th>\n",
              "      <th>fullname words</th>\n",
              "      <th>nums/length fullname</th>\n",
              "      <th>name==username</th>\n",
              "      <th>description length</th>\n",
              "      <th>external URL</th>\n",
              "      <th>private</th>\n",
              "      <th>#posts</th>\n",
              "      <th>#followers</th>\n",
              "      <th>#follows</th>\n",
              "      <th>fake</th>\n",
              "    </tr>\n",
              "  </thead>\n",
              "  <tbody>\n",
              "    <tr>\n",
              "      <th>196</th>\n",
              "      <td>1</td>\n",
              "      <td>0.00</td>\n",
              "      <td>2</td>\n",
              "      <td>0.0</td>\n",
              "      <td>0</td>\n",
              "      <td>48</td>\n",
              "      <td>0</td>\n",
              "      <td>0</td>\n",
              "      <td>222</td>\n",
              "      <td>5282</td>\n",
              "      <td>652</td>\n",
              "      <td>0</td>\n",
              "    </tr>\n",
              "    <tr>\n",
              "      <th>197</th>\n",
              "      <td>1</td>\n",
              "      <td>0.00</td>\n",
              "      <td>2</td>\n",
              "      <td>0.0</td>\n",
              "      <td>0</td>\n",
              "      <td>48</td>\n",
              "      <td>0</td>\n",
              "      <td>0</td>\n",
              "      <td>222</td>\n",
              "      <td>5282</td>\n",
              "      <td>652</td>\n",
              "      <td>0</td>\n",
              "    </tr>\n",
              "    <tr>\n",
              "      <th>491</th>\n",
              "      <td>1</td>\n",
              "      <td>0.91</td>\n",
              "      <td>1</td>\n",
              "      <td>0.0</td>\n",
              "      <td>0</td>\n",
              "      <td>0</td>\n",
              "      <td>0</td>\n",
              "      <td>0</td>\n",
              "      <td>0</td>\n",
              "      <td>75</td>\n",
              "      <td>26</td>\n",
              "      <td>1</td>\n",
              "    </tr>\n",
              "    <tr>\n",
              "      <th>525</th>\n",
              "      <td>1</td>\n",
              "      <td>0.91</td>\n",
              "      <td>1</td>\n",
              "      <td>0.0</td>\n",
              "      <td>0</td>\n",
              "      <td>0</td>\n",
              "      <td>0</td>\n",
              "      <td>0</td>\n",
              "      <td>0</td>\n",
              "      <td>75</td>\n",
              "      <td>26</td>\n",
              "      <td>1</td>\n",
              "    </tr>\n",
              "    <tr>\n",
              "      <th>637</th>\n",
              "      <td>1</td>\n",
              "      <td>0.27</td>\n",
              "      <td>1</td>\n",
              "      <td>0.0</td>\n",
              "      <td>0</td>\n",
              "      <td>0</td>\n",
              "      <td>0</td>\n",
              "      <td>0</td>\n",
              "      <td>0</td>\n",
              "      <td>45</td>\n",
              "      <td>64</td>\n",
              "      <td>1</td>\n",
              "    </tr>\n",
              "    <tr>\n",
              "      <th>639</th>\n",
              "      <td>0</td>\n",
              "      <td>0.00</td>\n",
              "      <td>1</td>\n",
              "      <td>0.0</td>\n",
              "      <td>1</td>\n",
              "      <td>0</td>\n",
              "      <td>0</td>\n",
              "      <td>0</td>\n",
              "      <td>0</td>\n",
              "      <td>69</td>\n",
              "      <td>694</td>\n",
              "      <td>1</td>\n",
              "    </tr>\n",
              "    <tr>\n",
              "      <th>643</th>\n",
              "      <td>0</td>\n",
              "      <td>0.00</td>\n",
              "      <td>1</td>\n",
              "      <td>0.0</td>\n",
              "      <td>1</td>\n",
              "      <td>0</td>\n",
              "      <td>0</td>\n",
              "      <td>0</td>\n",
              "      <td>0</td>\n",
              "      <td>69</td>\n",
              "      <td>694</td>\n",
              "      <td>1</td>\n",
              "    </tr>\n",
              "    <tr>\n",
              "      <th>659</th>\n",
              "      <td>1</td>\n",
              "      <td>0.27</td>\n",
              "      <td>1</td>\n",
              "      <td>0.0</td>\n",
              "      <td>0</td>\n",
              "      <td>0</td>\n",
              "      <td>0</td>\n",
              "      <td>0</td>\n",
              "      <td>0</td>\n",
              "      <td>45</td>\n",
              "      <td>64</td>\n",
              "      <td>1</td>\n",
              "    </tr>\n",
              "  </tbody>\n",
              "</table>\n",
              "</div>\n",
              "    <div class=\"colab-df-buttons\">\n",
              "\n",
              "  <div class=\"colab-df-container\">\n",
              "    <button class=\"colab-df-convert\" onclick=\"convertToInteractive('df-b93540c7-2f7c-43fb-b259-1ba2e5a3b761')\"\n",
              "            title=\"Convert this dataframe to an interactive table.\"\n",
              "            style=\"display:none;\">\n",
              "\n",
              "  <svg xmlns=\"http://www.w3.org/2000/svg\" height=\"24px\" viewBox=\"0 -960 960 960\">\n",
              "    <path d=\"M120-120v-720h720v720H120Zm60-500h600v-160H180v160Zm220 220h160v-160H400v160Zm0 220h160v-160H400v160ZM180-400h160v-160H180v160Zm440 0h160v-160H620v160ZM180-180h160v-160H180v160Zm440 0h160v-160H620v160Z\"/>\n",
              "  </svg>\n",
              "    </button>\n",
              "\n",
              "  <style>\n",
              "    .colab-df-container {\n",
              "      display:flex;\n",
              "      gap: 12px;\n",
              "    }\n",
              "\n",
              "    .colab-df-convert {\n",
              "      background-color: #E8F0FE;\n",
              "      border: none;\n",
              "      border-radius: 50%;\n",
              "      cursor: pointer;\n",
              "      display: none;\n",
              "      fill: #1967D2;\n",
              "      height: 32px;\n",
              "      padding: 0 0 0 0;\n",
              "      width: 32px;\n",
              "    }\n",
              "\n",
              "    .colab-df-convert:hover {\n",
              "      background-color: #E2EBFA;\n",
              "      box-shadow: 0px 1px 2px rgba(60, 64, 67, 0.3), 0px 1px 3px 1px rgba(60, 64, 67, 0.15);\n",
              "      fill: #174EA6;\n",
              "    }\n",
              "\n",
              "    .colab-df-buttons div {\n",
              "      margin-bottom: 4px;\n",
              "    }\n",
              "\n",
              "    [theme=dark] .colab-df-convert {\n",
              "      background-color: #3B4455;\n",
              "      fill: #D2E3FC;\n",
              "    }\n",
              "\n",
              "    [theme=dark] .colab-df-convert:hover {\n",
              "      background-color: #434B5C;\n",
              "      box-shadow: 0px 1px 3px 1px rgba(0, 0, 0, 0.15);\n",
              "      filter: drop-shadow(0px 1px 2px rgba(0, 0, 0, 0.3));\n",
              "      fill: #FFFFFF;\n",
              "    }\n",
              "  </style>\n",
              "\n",
              "    <script>\n",
              "      const buttonEl =\n",
              "        document.querySelector('#df-b93540c7-2f7c-43fb-b259-1ba2e5a3b761 button.colab-df-convert');\n",
              "      buttonEl.style.display =\n",
              "        google.colab.kernel.accessAllowed ? 'block' : 'none';\n",
              "\n",
              "      async function convertToInteractive(key) {\n",
              "        const element = document.querySelector('#df-b93540c7-2f7c-43fb-b259-1ba2e5a3b761');\n",
              "        const dataTable =\n",
              "          await google.colab.kernel.invokeFunction('convertToInteractive',\n",
              "                                                    [key], {});\n",
              "        if (!dataTable) return;\n",
              "\n",
              "        const docLinkHtml = 'Like what you see? Visit the ' +\n",
              "          '<a target=\"_blank\" href=https://colab.research.google.com/notebooks/data_table.ipynb>data table notebook</a>'\n",
              "          + ' to learn more about interactive tables.';\n",
              "        element.innerHTML = '';\n",
              "        dataTable['output_type'] = 'display_data';\n",
              "        await google.colab.output.renderOutput(dataTable, element);\n",
              "        const docLink = document.createElement('div');\n",
              "        docLink.innerHTML = docLinkHtml;\n",
              "        element.appendChild(docLink);\n",
              "      }\n",
              "    </script>\n",
              "  </div>\n",
              "\n",
              "\n",
              "<div id=\"df-8b68a755-875c-4d6e-84ff-5f9b1dae8dfe\">\n",
              "  <button class=\"colab-df-quickchart\" onclick=\"quickchart('df-8b68a755-875c-4d6e-84ff-5f9b1dae8dfe')\"\n",
              "            title=\"Suggest charts\"\n",
              "            style=\"display:none;\">\n",
              "\n",
              "<svg xmlns=\"http://www.w3.org/2000/svg\" height=\"24px\"viewBox=\"0 0 24 24\"\n",
              "     width=\"24px\">\n",
              "    <g>\n",
              "        <path d=\"M19 3H5c-1.1 0-2 .9-2 2v14c0 1.1.9 2 2 2h14c1.1 0 2-.9 2-2V5c0-1.1-.9-2-2-2zM9 17H7v-7h2v7zm4 0h-2V7h2v10zm4 0h-2v-4h2v4z\"/>\n",
              "    </g>\n",
              "</svg>\n",
              "  </button>\n",
              "\n",
              "<style>\n",
              "  .colab-df-quickchart {\n",
              "      --bg-color: #E8F0FE;\n",
              "      --fill-color: #1967D2;\n",
              "      --hover-bg-color: #E2EBFA;\n",
              "      --hover-fill-color: #174EA6;\n",
              "      --disabled-fill-color: #AAA;\n",
              "      --disabled-bg-color: #DDD;\n",
              "  }\n",
              "\n",
              "  [theme=dark] .colab-df-quickchart {\n",
              "      --bg-color: #3B4455;\n",
              "      --fill-color: #D2E3FC;\n",
              "      --hover-bg-color: #434B5C;\n",
              "      --hover-fill-color: #FFFFFF;\n",
              "      --disabled-bg-color: #3B4455;\n",
              "      --disabled-fill-color: #666;\n",
              "  }\n",
              "\n",
              "  .colab-df-quickchart {\n",
              "    background-color: var(--bg-color);\n",
              "    border: none;\n",
              "    border-radius: 50%;\n",
              "    cursor: pointer;\n",
              "    display: none;\n",
              "    fill: var(--fill-color);\n",
              "    height: 32px;\n",
              "    padding: 0;\n",
              "    width: 32px;\n",
              "  }\n",
              "\n",
              "  .colab-df-quickchart:hover {\n",
              "    background-color: var(--hover-bg-color);\n",
              "    box-shadow: 0 1px 2px rgba(60, 64, 67, 0.3), 0 1px 3px 1px rgba(60, 64, 67, 0.15);\n",
              "    fill: var(--button-hover-fill-color);\n",
              "  }\n",
              "\n",
              "  .colab-df-quickchart-complete:disabled,\n",
              "  .colab-df-quickchart-complete:disabled:hover {\n",
              "    background-color: var(--disabled-bg-color);\n",
              "    fill: var(--disabled-fill-color);\n",
              "    box-shadow: none;\n",
              "  }\n",
              "\n",
              "  .colab-df-spinner {\n",
              "    border: 2px solid var(--fill-color);\n",
              "    border-color: transparent;\n",
              "    border-bottom-color: var(--fill-color);\n",
              "    animation:\n",
              "      spin 1s steps(1) infinite;\n",
              "  }\n",
              "\n",
              "  @keyframes spin {\n",
              "    0% {\n",
              "      border-color: transparent;\n",
              "      border-bottom-color: var(--fill-color);\n",
              "      border-left-color: var(--fill-color);\n",
              "    }\n",
              "    20% {\n",
              "      border-color: transparent;\n",
              "      border-left-color: var(--fill-color);\n",
              "      border-top-color: var(--fill-color);\n",
              "    }\n",
              "    30% {\n",
              "      border-color: transparent;\n",
              "      border-left-color: var(--fill-color);\n",
              "      border-top-color: var(--fill-color);\n",
              "      border-right-color: var(--fill-color);\n",
              "    }\n",
              "    40% {\n",
              "      border-color: transparent;\n",
              "      border-right-color: var(--fill-color);\n",
              "      border-top-color: var(--fill-color);\n",
              "    }\n",
              "    60% {\n",
              "      border-color: transparent;\n",
              "      border-right-color: var(--fill-color);\n",
              "    }\n",
              "    80% {\n",
              "      border-color: transparent;\n",
              "      border-right-color: var(--fill-color);\n",
              "      border-bottom-color: var(--fill-color);\n",
              "    }\n",
              "    90% {\n",
              "      border-color: transparent;\n",
              "      border-bottom-color: var(--fill-color);\n",
              "    }\n",
              "  }\n",
              "</style>\n",
              "\n",
              "  <script>\n",
              "    async function quickchart(key) {\n",
              "      const quickchartButtonEl =\n",
              "        document.querySelector('#' + key + ' button');\n",
              "      quickchartButtonEl.disabled = true;  // To prevent multiple clicks.\n",
              "      quickchartButtonEl.classList.add('colab-df-spinner');\n",
              "      try {\n",
              "        const charts = await google.colab.kernel.invokeFunction(\n",
              "            'suggestCharts', [key], {});\n",
              "      } catch (error) {\n",
              "        console.error('Error during call to suggestCharts:', error);\n",
              "      }\n",
              "      quickchartButtonEl.classList.remove('colab-df-spinner');\n",
              "      quickchartButtonEl.classList.add('colab-df-quickchart-complete');\n",
              "    }\n",
              "    (() => {\n",
              "      let quickchartButtonEl =\n",
              "        document.querySelector('#df-8b68a755-875c-4d6e-84ff-5f9b1dae8dfe button');\n",
              "      quickchartButtonEl.style.display =\n",
              "        google.colab.kernel.accessAllowed ? 'block' : 'none';\n",
              "    })();\n",
              "  </script>\n",
              "</div>\n",
              "\n",
              "  <div id=\"id_ac542bf7-a26f-4583-b22e-092fb04853b7\">\n",
              "    <style>\n",
              "      .colab-df-generate {\n",
              "        background-color: #E8F0FE;\n",
              "        border: none;\n",
              "        border-radius: 50%;\n",
              "        cursor: pointer;\n",
              "        display: none;\n",
              "        fill: #1967D2;\n",
              "        height: 32px;\n",
              "        padding: 0 0 0 0;\n",
              "        width: 32px;\n",
              "      }\n",
              "\n",
              "      .colab-df-generate:hover {\n",
              "        background-color: #E2EBFA;\n",
              "        box-shadow: 0px 1px 2px rgba(60, 64, 67, 0.3), 0px 1px 3px 1px rgba(60, 64, 67, 0.15);\n",
              "        fill: #174EA6;\n",
              "      }\n",
              "\n",
              "      [theme=dark] .colab-df-generate {\n",
              "        background-color: #3B4455;\n",
              "        fill: #D2E3FC;\n",
              "      }\n",
              "\n",
              "      [theme=dark] .colab-df-generate:hover {\n",
              "        background-color: #434B5C;\n",
              "        box-shadow: 0px 1px 3px 1px rgba(0, 0, 0, 0.15);\n",
              "        filter: drop-shadow(0px 1px 2px rgba(0, 0, 0, 0.3));\n",
              "        fill: #FFFFFF;\n",
              "      }\n",
              "    </style>\n",
              "    <button class=\"colab-df-generate\" onclick=\"generateWithVariable('df_duplicated')\"\n",
              "            title=\"Generate code using this dataframe.\"\n",
              "            style=\"display:none;\">\n",
              "\n",
              "  <svg xmlns=\"http://www.w3.org/2000/svg\" height=\"24px\"viewBox=\"0 0 24 24\"\n",
              "       width=\"24px\">\n",
              "    <path d=\"M7,19H8.4L18.45,9,17,7.55,7,17.6ZM5,21V16.75L18.45,3.32a2,2,0,0,1,2.83,0l1.4,1.43a1.91,1.91,0,0,1,.58,1.4,1.91,1.91,0,0,1-.58,1.4L9.25,21ZM18.45,9,17,7.55Zm-12,3A5.31,5.31,0,0,0,4.9,8.1,5.31,5.31,0,0,0,1,6.5,5.31,5.31,0,0,0,4.9,4.9,5.31,5.31,0,0,0,6.5,1,5.31,5.31,0,0,0,8.1,4.9,5.31,5.31,0,0,0,12,6.5,5.46,5.46,0,0,0,6.5,12Z\"/>\n",
              "  </svg>\n",
              "    </button>\n",
              "    <script>\n",
              "      (() => {\n",
              "      const buttonEl =\n",
              "        document.querySelector('#id_ac542bf7-a26f-4583-b22e-092fb04853b7 button.colab-df-generate');\n",
              "      buttonEl.style.display =\n",
              "        google.colab.kernel.accessAllowed ? 'block' : 'none';\n",
              "\n",
              "      buttonEl.onclick = () => {\n",
              "        google.colab.notebook.generateWithVariable('df_duplicated');\n",
              "      }\n",
              "      })();\n",
              "    </script>\n",
              "  </div>\n",
              "\n",
              "    </div>\n",
              "  </div>\n"
            ],
            "application/vnd.google.colaboratory.intrinsic+json": {
              "type": "dataframe",
              "variable_name": "df_duplicated",
              "summary": "{\n  \"name\": \"df_duplicated\",\n  \"rows\": 8,\n  \"fields\": [\n    {\n      \"column\": \"profile pic\",\n      \"properties\": {\n        \"dtype\": \"number\",\n        \"std\": 0,\n        \"min\": 0,\n        \"max\": 1,\n        \"num_unique_values\": 2,\n        \"samples\": [\n          0,\n          1\n        ],\n        \"semantic_type\": \"\",\n        \"description\": \"\"\n      }\n    },\n    {\n      \"column\": \"nums/length username\",\n      \"properties\": {\n        \"dtype\": \"number\",\n        \"std\": 0.39745619704745905,\n        \"min\": 0.0,\n        \"max\": 0.91,\n        \"num_unique_values\": 3,\n        \"samples\": [\n          0.0,\n          0.91\n        ],\n        \"semantic_type\": \"\",\n        \"description\": \"\"\n      }\n    },\n    {\n      \"column\": \"fullname words\",\n      \"properties\": {\n        \"dtype\": \"number\",\n        \"std\": 0,\n        \"min\": 1,\n        \"max\": 2,\n        \"num_unique_values\": 2,\n        \"samples\": [\n          1,\n          2\n        ],\n        \"semantic_type\": \"\",\n        \"description\": \"\"\n      }\n    },\n    {\n      \"column\": \"nums/length fullname\",\n      \"properties\": {\n        \"dtype\": \"number\",\n        \"std\": 0.0,\n        \"min\": 0.0,\n        \"max\": 0.0,\n        \"num_unique_values\": 1,\n        \"samples\": [\n          0.0\n        ],\n        \"semantic_type\": \"\",\n        \"description\": \"\"\n      }\n    },\n    {\n      \"column\": \"name==username\",\n      \"properties\": {\n        \"dtype\": \"number\",\n        \"std\": 0,\n        \"min\": 0,\n        \"max\": 1,\n        \"num_unique_values\": 2,\n        \"samples\": [\n          1\n        ],\n        \"semantic_type\": \"\",\n        \"description\": \"\"\n      }\n    },\n    {\n      \"column\": \"description length\",\n      \"properties\": {\n        \"dtype\": \"number\",\n        \"std\": 22,\n        \"min\": 0,\n        \"max\": 48,\n        \"num_unique_values\": 2,\n        \"samples\": [\n          0\n        ],\n        \"semantic_type\": \"\",\n        \"description\": \"\"\n      }\n    },\n    {\n      \"column\": \"external URL\",\n      \"properties\": {\n        \"dtype\": \"number\",\n        \"std\": 0,\n        \"min\": 0,\n        \"max\": 0,\n        \"num_unique_values\": 1,\n        \"samples\": [\n          0\n        ],\n        \"semantic_type\": \"\",\n        \"description\": \"\"\n      }\n    },\n    {\n      \"column\": \"private\",\n      \"properties\": {\n        \"dtype\": \"number\",\n        \"std\": 0,\n        \"min\": 0,\n        \"max\": 0,\n        \"num_unique_values\": 1,\n        \"samples\": [\n          0\n        ],\n        \"semantic_type\": \"\",\n        \"description\": \"\"\n      }\n    },\n    {\n      \"column\": \"#posts\",\n      \"properties\": {\n        \"dtype\": \"number\",\n        \"std\": 102,\n        \"min\": 0,\n        \"max\": 222,\n        \"num_unique_values\": 2,\n        \"samples\": [\n          0\n        ],\n        \"semantic_type\": \"\",\n        \"description\": \"\"\n      }\n    },\n    {\n      \"column\": \"#followers\",\n      \"properties\": {\n        \"dtype\": \"number\",\n        \"std\": 2415,\n        \"min\": 45,\n        \"max\": 5282,\n        \"num_unique_values\": 4,\n        \"samples\": [\n          75\n        ],\n        \"semantic_type\": \"\",\n        \"description\": \"\"\n      }\n    },\n    {\n      \"column\": \"#follows\",\n      \"properties\": {\n        \"dtype\": \"number\",\n        \"std\": 336,\n        \"min\": 26,\n        \"max\": 694,\n        \"num_unique_values\": 4,\n        \"samples\": [\n          26\n        ],\n        \"semantic_type\": \"\",\n        \"description\": \"\"\n      }\n    },\n    {\n      \"column\": \"fake\",\n      \"properties\": {\n        \"dtype\": \"number\",\n        \"std\": 0,\n        \"min\": 0,\n        \"max\": 1,\n        \"num_unique_values\": 2,\n        \"samples\": [\n          1\n        ],\n        \"semantic_type\": \"\",\n        \"description\": \"\"\n      }\n    }\n  ]\n}"
            }
          },
          "metadata": {},
          "execution_count": 18
        }
      ]
    },
    {
      "cell_type": "code",
      "source": [
        "# Removing duplicates\n",
        "df.drop_duplicates(inplace = True)\n"
      ],
      "metadata": {
        "id": "MRmnWUpG9SmD"
      },
      "execution_count": null,
      "outputs": []
    },
    {
      "cell_type": "code",
      "source": [
        "# new dataset size\n",
        "print(\" size of dataset :\",len(df))\n"
      ],
      "metadata": {
        "colab": {
          "base_uri": "https://localhost:8080/"
        },
        "id": "xhHCppjk9nVc",
        "outputId": "ab4437cb-01d4-4417-a956-8f6cfac7ca34"
      },
      "execution_count": null,
      "outputs": [
        {
          "output_type": "stream",
          "name": "stdout",
          "text": [
            " size of dataset : 692\n"
          ]
        }
      ]
    },
    {
      "cell_type": "code",
      "source": [
        "target=np.array(df['fake'])\n",
        "data = df.drop('fake',axis=1)\n",
        "inp_data = np.array(data)\n",
        "inp_data = np.float64(inp_data)"
      ],
      "metadata": {
        "id": "I4WN2Q8f9scx"
      },
      "execution_count": null,
      "outputs": []
    },
    {
      "cell_type": "markdown",
      "source": [
        "# dataspliting"
      ],
      "metadata": {
        "id": "jb0yKJs-BVUS"
      }
    },
    {
      "cell_type": "code",
      "source": [
        "# for machine learning\n",
        "xtrain,xtest,ytrain,ytest = train_test_split(inp_data,target,test_size=0.2,random_state=100)"
      ],
      "metadata": {
        "id": "0m27dhmc_qi4"
      },
      "execution_count": null,
      "outputs": []
    },
    {
      "cell_type": "code",
      "source": [
        "# for deep learning\n",
        "x_train = xtrain.reshape((xtrain.shape[0],1,xtrain.shape[1]))\n",
        "x_test = xtest.reshape((xtest.shape[0],1,xtest.shape[1]))"
      ],
      "metadata": {
        "id": "oOD9QMreBMTw"
      },
      "execution_count": null,
      "outputs": []
    },
    {
      "cell_type": "markdown",
      "source": [
        "#SVM classifier (Machine Learning)"
      ],
      "metadata": {
        "id": "wHWY7RJ7Bmhl"
      }
    },
    {
      "cell_type": "code",
      "source": [
        "\n",
        "\n",
        "# svm training\n",
        "svm = SVC()\n",
        "svm.fit(xtrain,ytrain)\n"
      ],
      "metadata": {
        "colab": {
          "base_uri": "https://localhost:8080/",
          "height": 95
        },
        "id": "IrhBOVyQBhtw",
        "outputId": "9b587e65-51f0-4147-b6c6-00b61d791962"
      },
      "execution_count": null,
      "outputs": [
        {
          "output_type": "execute_result",
          "data": {
            "text/plain": [
              "SVC()"
            ],
            "text/html": [
              "<style>#sk-container-id-1 {color: black;background-color: white;}#sk-container-id-1 pre{padding: 0;}#sk-container-id-1 div.sk-toggleable {background-color: white;}#sk-container-id-1 label.sk-toggleable__label {cursor: pointer;display: block;width: 100%;margin-bottom: 0;padding: 0.3em;box-sizing: border-box;text-align: center;}#sk-container-id-1 label.sk-toggleable__label-arrow:before {content: \"▸\";float: left;margin-right: 0.25em;color: #696969;}#sk-container-id-1 label.sk-toggleable__label-arrow:hover:before {color: black;}#sk-container-id-1 div.sk-estimator:hover label.sk-toggleable__label-arrow:before {color: black;}#sk-container-id-1 div.sk-toggleable__content {max-height: 0;max-width: 0;overflow: hidden;text-align: left;background-color: #f0f8ff;}#sk-container-id-1 div.sk-toggleable__content pre {margin: 0.2em;color: black;border-radius: 0.25em;background-color: #f0f8ff;}#sk-container-id-1 input.sk-toggleable__control:checked~div.sk-toggleable__content {max-height: 200px;max-width: 100%;overflow: auto;}#sk-container-id-1 input.sk-toggleable__control:checked~label.sk-toggleable__label-arrow:before {content: \"▾\";}#sk-container-id-1 div.sk-estimator input.sk-toggleable__control:checked~label.sk-toggleable__label {background-color: #d4ebff;}#sk-container-id-1 div.sk-label input.sk-toggleable__control:checked~label.sk-toggleable__label {background-color: #d4ebff;}#sk-container-id-1 input.sk-hidden--visually {border: 0;clip: rect(1px 1px 1px 1px);clip: rect(1px, 1px, 1px, 1px);height: 1px;margin: -1px;overflow: hidden;padding: 0;position: absolute;width: 1px;}#sk-container-id-1 div.sk-estimator {font-family: monospace;background-color: #f0f8ff;border: 1px dotted black;border-radius: 0.25em;box-sizing: border-box;margin-bottom: 0.5em;}#sk-container-id-1 div.sk-estimator:hover {background-color: #d4ebff;}#sk-container-id-1 div.sk-parallel-item::after {content: \"\";width: 100%;border-bottom: 1px solid gray;flex-grow: 1;}#sk-container-id-1 div.sk-label:hover label.sk-toggleable__label {background-color: #d4ebff;}#sk-container-id-1 div.sk-serial::before {content: \"\";position: absolute;border-left: 1px solid gray;box-sizing: border-box;top: 0;bottom: 0;left: 50%;z-index: 0;}#sk-container-id-1 div.sk-serial {display: flex;flex-direction: column;align-items: center;background-color: white;padding-right: 0.2em;padding-left: 0.2em;position: relative;}#sk-container-id-1 div.sk-item {position: relative;z-index: 1;}#sk-container-id-1 div.sk-parallel {display: flex;align-items: stretch;justify-content: center;background-color: white;position: relative;}#sk-container-id-1 div.sk-item::before, #sk-container-id-1 div.sk-parallel-item::before {content: \"\";position: absolute;border-left: 1px solid gray;box-sizing: border-box;top: 0;bottom: 0;left: 50%;z-index: -1;}#sk-container-id-1 div.sk-parallel-item {display: flex;flex-direction: column;z-index: 1;position: relative;background-color: white;}#sk-container-id-1 div.sk-parallel-item:first-child::after {align-self: flex-end;width: 50%;}#sk-container-id-1 div.sk-parallel-item:last-child::after {align-self: flex-start;width: 50%;}#sk-container-id-1 div.sk-parallel-item:only-child::after {width: 0;}#sk-container-id-1 div.sk-dashed-wrapped {border: 1px dashed gray;margin: 0 0.4em 0.5em 0.4em;box-sizing: border-box;padding-bottom: 0.4em;background-color: white;}#sk-container-id-1 div.sk-label label {font-family: monospace;font-weight: bold;display: inline-block;line-height: 1.2em;}#sk-container-id-1 div.sk-label-container {text-align: center;}#sk-container-id-1 div.sk-container {/* jupyter's `normalize.less` sets `[hidden] { display: none; }` but bootstrap.min.css set `[hidden] { display: none !important; }` so we also need the `!important` here to be able to override the default hidden behavior on the sphinx rendered scikit-learn.org. See: https://github.com/scikit-learn/scikit-learn/issues/21755 */display: inline-block !important;position: relative;}#sk-container-id-1 div.sk-text-repr-fallback {display: none;}</style><div id=\"sk-container-id-1\" class=\"sk-top-container\"><div class=\"sk-text-repr-fallback\"><pre>SVC()</pre><b>In a Jupyter environment, please rerun this cell to show the HTML representation or trust the notebook. <br />On GitHub, the HTML representation is unable to render, please try loading this page with nbviewer.org.</b></div><div class=\"sk-container\" hidden><div class=\"sk-item\"><div class=\"sk-estimator sk-toggleable\"><input class=\"sk-toggleable__control sk-hidden--visually\" id=\"sk-estimator-id-1\" type=\"checkbox\" checked><label for=\"sk-estimator-id-1\" class=\"sk-toggleable__label sk-toggleable__label-arrow\">SVC</label><div class=\"sk-toggleable__content\"><pre>SVC()</pre></div></div></div></div></div>"
            ]
          },
          "metadata": {},
          "execution_count": 24
        }
      ]
    },
    {
      "cell_type": "code",
      "source": [
        "predictions = svm.predict(xtest)\n",
        "svm_acc = accuracy_score(ytest, predictions)\n",
        "print(\"Accuracy svm : \",svm_acc)"
      ],
      "metadata": {
        "colab": {
          "base_uri": "https://localhost:8080/"
        },
        "id": "5VUMyaZnB6u1",
        "outputId": "c5d2a4c8-28e9-422c-f47c-8711b1333a85"
      },
      "execution_count": null,
      "outputs": [
        {
          "output_type": "stream",
          "name": "stdout",
          "text": [
            "Accuracy svm :  0.48201438848920863\n"
          ]
        }
      ]
    },
    {
      "cell_type": "code",
      "source": [
        "cm = confusion_matrix(ytest,predictions)\n",
        "print(\"Confusion Matrix:\\n{}\".format(cm))\n",
        "plt.figure(figsize=(6,4))\n",
        "sns.heatmap(cm, annot=True, fmt=\"d\")\n",
        "plt.show()"
      ],
      "metadata": {
        "colab": {
          "base_uri": "https://localhost:8080/",
          "height": 108
        },
        "id": "TSGTPVRhCq04",
        "outputId": "c9ccb56c-c96e-41e4-b0e2-c2bbbbedf9f2"
      },
      "execution_count": null,
      "outputs": [
        {
          "output_type": "stream",
          "name": "stdout",
          "text": [
            "Confusion Matrix:\n",
            "[[ 4 72]\n",
            " [ 0 63]]\n"
          ]
        },
        {
          "output_type": "display_data",
          "data": {
            "text/plain": [
              "<Figure size 600x400 with 2 Axes>"
            ],
            "image/png": "[encoded data removed]"
          },
          "metadata": {}
        }
      ]
    },
    {
      "cell_type": "markdown",
      "source": [
        "#KNN classifier (Machine Learning)"
      ],
      "metadata": {
        "id": "d8UqmpluCQ2R"
      }
    },
    {
      "cell_type": "code",
      "source": [
        "\n",
        "knn = KNeighborsClassifier(2).fit(xtrain, ytrain)\n",
        "predictions = knn.predict(xtest)\n",
        "acc = accuracy_score(ytest,predictions)\n",
        "print(\"Accuracy knn : \", acc)"
      ],
      "metadata": {
        "colab": {
          "base_uri": "https://localhost:8080/"
        },
        "id": "kbV1YJAACGDf",
        "outputId": "a64996e9-b469-4837-eb4b-4c11c2a7faa6"
      },
      "execution_count": null,
      "outputs": [
        {
          "output_type": "stream",
          "name": "stdout",
          "text": [
            "Accuracy knn :  0.8345323741007195\n"
          ]
        }
      ]
    },
    {
      "cell_type": "code",
      "source": [
        "\n",
        "cm = confusion_matrix(ytest,predictions)\n",
        "print(\"Confusion Matrix:\\n{}\".format(cm))\n",
        "plt.figure(figsize=(6,4))\n",
        "sns.heatmap(cm, annot=True, fmt=\"d\")\n",
        "plt.show()"
      ],
      "metadata": {
        "colab": {
          "base_uri": "https://localhost:8080/",
          "height": 422
        },
        "id": "yGGUNi7RCUh_",
        "outputId": "c426a26d-e7c4-43c6-8b1e-9e86fdde44cb"
      },
      "execution_count": null,
      "outputs": [
        {
          "output_type": "stream",
          "name": "stdout",
          "text": [
            "Confusion Matrix:\n",
            "[[73  3]\n",
            " [20 43]]\n"
          ]
        },
        {
          "output_type": "display_data",
          "data": {
            "text/plain": [
              "<Figure size 600x400 with 2 Axes>"
            ],
            "image/png": "[encoded data removed]"
          },
          "metadata": {}
        }
      ]
    },
    {
      "cell_type": "markdown",
      "source": [
        "#Multi-Layer Perceptron Classifier"
      ],
      "metadata": {
        "id": "O--rCKUTDQOp"
      }
    },
    {
      "cell_type": "code",
      "source": [
        "\n",
        "clf = MLPClassifier(random_state=1, max_iter=300).fit(xtrain, ytrain)\n"
      ],
      "metadata": {
        "id": "AA-LPXxZCmVK"
      },
      "execution_count": null,
      "outputs": []
    },
    {
      "cell_type": "code",
      "source": [
        "predictions = clf.predict(xtest)\n",
        "clf_acc = accuracy_score(ytest,predictions)\n",
        "print(\"Accuracy MLP Classifier : \", clf_acc)"
      ],
      "metadata": {
        "colab": {
          "base_uri": "https://localhost:8080/"
        },
        "id": "yZI9yWeADBYf",
        "outputId": "594ce1b4-49e8-426c-faf0-7b45e1441019"
      },
      "execution_count": null,
      "outputs": [
        {
          "output_type": "stream",
          "name": "stdout",
          "text": [
            "Accuracy MLP Classifier :  0.7697841726618705\n"
          ]
        }
      ]
    },
    {
      "cell_type": "code",
      "source": [
        "cm = confusion_matrix(ytest,predictions)\n",
        "print(\"Confusion Matrix:\\n{}\".format(cm))\n",
        "plt.figure(figsize=(6,4))\n",
        "sns.heatmap(cm, annot=True, fmt=\"d\")\n",
        "plt.show()"
      ],
      "metadata": {
        "colab": {
          "base_uri": "https://localhost:8080/",
          "height": 422
        },
        "id": "2fF0N9yVDCim",
        "outputId": "c2a9fbef-f192-4916-cc6c-a8c38c5f7e42"
      },
      "execution_count": null,
      "outputs": [
        {
          "output_type": "stream",
          "name": "stdout",
          "text": [
            "Confusion Matrix:\n",
            "[[74  2]\n",
            " [30 33]]\n"
          ]
        },
        {
          "output_type": "display_data",
          "data": {
            "text/plain": [
              "<Figure size 600x400 with 2 Axes>"
            ],
            "image/png": "[encoded data removed]"
          },
          "metadata": {}
        }
      ]
    },
    {
      "cell_type": "markdown",
      "source": [
        "#LSTM"
      ],
      "metadata": {
        "id": "BYaLaZ_-JXTh"
      }
    },
    {
      "cell_type": "code",
      "source": [
        "model = keras.Sequential()\n",
        "model.add(layers.Conv1D(128,1, activation='relu',input_shape=(x_train.shape[1],11)))\n",
        "model.add(layers.LSTM(25,return_sequences=True))\n",
        "model.add(layers.SimpleRNN(20))\n",
        "model.add(layers.Dense(400))\n",
        "model.add(layers.ELU())\n",
        "model.add(layers.Dropout(0.2))\n",
        "model.add(layers.Dense(2, activation='softmax'))\n",
        "model.compile(loss='sparse_categorical_crossentropy', optimizer='adam', metrics=['accuracy'])\n",
        "print(model.summary())"
      ],
      "metadata": {
        "id": "pYGm-8TADFae",
        "colab": {
          "base_uri": "https://localhost:8080/"
        },
        "outputId": "cc5a65ed-22bb-475f-d8b1-56d8a6b25f00"
      },
      "execution_count": null,
      "outputs": [
        {
          "output_type": "stream",
          "name": "stdout",
          "text": [
            "Model: \"sequential\"\n",
            "_________________________________________________________________\n",
            " Layer (type)                Output Shape              Param #   \n",
            "=================================================================\n",
            " conv1d (Conv1D)             (None, 1, 128)            1536      \n",
            "                                                                 \n",
            " lstm (LSTM)                 (None, 1, 25)             15400     \n",
            "                                                                 \n",
            " simple_rnn (SimpleRNN)      (None, 20)                920       \n",
            "                                                                 \n",
            " dense (Dense)               (None, 400)               8400      \n",
            "                                                                 \n",
            " elu (ELU)                   (None, 400)               0         \n",
            "                                                                 \n",
            " dropout (Dropout)           (None, 400)               0         \n",
            "                                                                 \n",
            " dense_1 (Dense)             (None, 2)                 802       \n",
            "                                                                 \n",
            "=================================================================\n",
            "Total params: 27058 (105.70 KB)\n",
            "Trainable params: 27058 (105.70 KB)\n",
            "Non-trainable params: 0 (0.00 Byte)\n",
            "_________________________________________________________________\n",
            "None\n"
          ]
        }
      ]
    },
    {
      "cell_type": "code",
      "source": [
        "history = model.fit(x_train,ytrain,epochs=100, validation_split=0.2)"
      ],
      "metadata": {
        "colab": {
          "base_uri": "https://localhost:8080/"
        },
        "id": "Gl3stucuEx5h",
        "outputId": "d636ba25-5114-4167-9e83-d3859b810dd0"
      },
      "execution_count": null,
      "outputs": [
        {
          "output_type": "stream",
          "name": "stdout",
          "text": [
            "Epoch 1/100\n",
            "14/14 [==============================] - 7s 60ms/step - loss: 0.5807 - accuracy: 0.7036 - val_loss: 0.4681 - val_accuracy: 0.8288\n",
            "Epoch 2/100\n",
            "14/14 [==============================] - 0s 8ms/step - loss: 0.4671 - accuracy: 0.8258 - val_loss: 0.5514 - val_accuracy: 0.7207\n",
            "Epoch 3/100\n",
            "14/14 [==============================] - 0s 8ms/step - loss: 0.5131 - accuracy: 0.7398 - val_loss: 0.5520 - val_accuracy: 0.7207\n",
            "Epoch 4/100\n",
            "14/14 [==============================] - 0s 10ms/step - loss: 0.4939 - accuracy: 0.7783 - val_loss: 0.4151 - val_accuracy: 0.8468\n",
            "Epoch 5/100\n",
            "14/14 [==============================] - 0s 8ms/step - loss: 0.4697 - accuracy: 0.8009 - val_loss: 0.4228 - val_accuracy: 0.8108\n",
            "Epoch 6/100\n",
            "14/14 [==============================] - 0s 9ms/step - loss: 0.4618 - accuracy: 0.7805 - val_loss: 0.3998 - val_accuracy: 0.8739\n",
            "Epoch 7/100\n",
            "14/14 [==============================] - 0s 9ms/step - loss: 0.4209 - accuracy: 0.8416 - val_loss: 0.4476 - val_accuracy: 0.8018\n",
            "Epoch 8/100\n",
            "14/14 [==============================] - 0s 8ms/step - loss: 0.4453 - accuracy: 0.8009 - val_loss: 0.4017 - val_accuracy: 0.8919\n",
            "Epoch 9/100\n",
            "14/14 [==============================] - 0s 9ms/step - loss: 0.3759 - accuracy: 0.8484 - val_loss: 0.4128 - val_accuracy: 0.7928\n",
            "Epoch 10/100\n",
            "14/14 [==============================] - 0s 9ms/step - loss: 0.4132 - accuracy: 0.8416 - val_loss: 0.4189 - val_accuracy: 0.8198\n",
            "Epoch 11/100\n",
            "14/14 [==============================] - 0s 8ms/step - loss: 0.4138 - accuracy: 0.8145 - val_loss: 0.3470 - val_accuracy: 0.8559\n",
            "Epoch 12/100\n",
            "14/14 [==============================] - 0s 9ms/step - loss: 0.4235 - accuracy: 0.8213 - val_loss: 0.3826 - val_accuracy: 0.8559\n",
            "Epoch 13/100\n",
            "14/14 [==============================] - 0s 9ms/step - loss: 0.4149 - accuracy: 0.8394 - val_loss: 0.3794 - val_accuracy: 0.8919\n",
            "Epoch 14/100\n",
            "14/14 [==============================] - 0s 8ms/step - loss: 0.4125 - accuracy: 0.8054 - val_loss: 0.3801 - val_accuracy: 0.8649\n",
            "Epoch 15/100\n",
            "14/14 [==============================] - 0s 10ms/step - loss: 0.3727 - accuracy: 0.8507 - val_loss: 0.3462 - val_accuracy: 0.8559\n",
            "Epoch 16/100\n",
            "14/14 [==============================] - 0s 9ms/step - loss: 0.3544 - accuracy: 0.8552 - val_loss: 0.3109 - val_accuracy: 0.9099\n",
            "Epoch 17/100\n",
            "14/14 [==============================] - 0s 9ms/step - loss: 0.3083 - accuracy: 0.8846 - val_loss: 0.3176 - val_accuracy: 0.9009\n",
            "Epoch 18/100\n",
            "14/14 [==============================] - 0s 9ms/step - loss: 0.3185 - accuracy: 0.8891 - val_loss: 0.2987 - val_accuracy: 0.9009\n",
            "Epoch 19/100\n",
            "14/14 [==============================] - 0s 10ms/step - loss: 0.3285 - accuracy: 0.8778 - val_loss: 0.2734 - val_accuracy: 0.9099\n",
            "Epoch 20/100\n",
            "14/14 [==============================] - 0s 9ms/step - loss: 0.2868 - accuracy: 0.9027 - val_loss: 0.2637 - val_accuracy: 0.9099\n",
            "Epoch 21/100\n",
            "14/14 [==============================] - 0s 9ms/step - loss: 0.3050 - accuracy: 0.8937 - val_loss: 0.3684 - val_accuracy: 0.8739\n",
            "Epoch 22/100\n",
            "14/14 [==============================] - 0s 10ms/step - loss: 0.3052 - accuracy: 0.9027 - val_loss: 0.3755 - val_accuracy: 0.8468\n",
            "Epoch 23/100\n",
            "14/14 [==============================] - 0s 9ms/step - loss: 0.3532 - accuracy: 0.8484 - val_loss: 0.3392 - val_accuracy: 0.8649\n",
            "Epoch 24/100\n",
            "14/14 [==============================] - 0s 9ms/step - loss: 0.3400 - accuracy: 0.8665 - val_loss: 0.2561 - val_accuracy: 0.9009\n",
            "Epoch 25/100\n",
            "14/14 [==============================] - 0s 9ms/step - loss: 0.4343 - accuracy: 0.8032 - val_loss: 0.3850 - val_accuracy: 0.8559\n",
            "Epoch 26/100\n",
            "14/14 [==============================] - 0s 9ms/step - loss: 0.3316 - accuracy: 0.8756 - val_loss: 0.3159 - val_accuracy: 0.9189\n",
            "Epoch 27/100\n",
            "14/14 [==============================] - 0s 9ms/step - loss: 0.3563 - accuracy: 0.8688 - val_loss: 0.3198 - val_accuracy: 0.9099\n",
            "Epoch 28/100\n",
            "14/14 [==============================] - 0s 8ms/step - loss: 0.3412 - accuracy: 0.8937 - val_loss: 0.3206 - val_accuracy: 0.8919\n",
            "Epoch 29/100\n",
            "14/14 [==============================] - 0s 9ms/step - loss: 0.3416 - accuracy: 0.8824 - val_loss: 0.3295 - val_accuracy: 0.9099\n",
            "Epoch 30/100\n",
            "14/14 [==============================] - 0s 10ms/step - loss: 0.3158 - accuracy: 0.8982 - val_loss: 0.3435 - val_accuracy: 0.9099\n",
            "Epoch 31/100\n",
            "14/14 [==============================] - 0s 8ms/step - loss: 0.3348 - accuracy: 0.8891 - val_loss: 0.3100 - val_accuracy: 0.8919\n",
            "Epoch 32/100\n",
            "14/14 [==============================] - 0s 9ms/step - loss: 0.3175 - accuracy: 0.8801 - val_loss: 0.3726 - val_accuracy: 0.8829\n",
            "Epoch 33/100\n",
            "14/14 [==============================] - 0s 9ms/step - loss: 0.3481 - accuracy: 0.8756 - val_loss: 0.3565 - val_accuracy: 0.8829\n",
            "Epoch 34/100\n",
            "14/14 [==============================] - 0s 8ms/step - loss: 0.3203 - accuracy: 0.8959 - val_loss: 0.3332 - val_accuracy: 0.8829\n",
            "Epoch 35/100\n",
            "14/14 [==============================] - 0s 10ms/step - loss: 0.2999 - accuracy: 0.9050 - val_loss: 0.3132 - val_accuracy: 0.9009\n",
            "Epoch 36/100\n",
            "14/14 [==============================] - 0s 9ms/step - loss: 0.3081 - accuracy: 0.8778 - val_loss: 0.3115 - val_accuracy: 0.9009\n",
            "Epoch 37/100\n",
            "14/14 [==============================] - 0s 9ms/step - loss: 0.2907 - accuracy: 0.9050 - val_loss: 0.2958 - val_accuracy: 0.9099\n",
            "Epoch 38/100\n",
            "14/14 [==============================] - 0s 9ms/step - loss: 0.3435 - accuracy: 0.8891 - val_loss: 0.3101 - val_accuracy: 0.8919\n",
            "Epoch 39/100\n",
            "14/14 [==============================] - 0s 9ms/step - loss: 0.3466 - accuracy: 0.9005 - val_loss: 0.2921 - val_accuracy: 0.9009\n",
            "Epoch 40/100\n",
            "14/14 [==============================] - 0s 8ms/step - loss: 0.3093 - accuracy: 0.8937 - val_loss: 0.3065 - val_accuracy: 0.9189\n",
            "Epoch 41/100\n",
            "14/14 [==============================] - 0s 8ms/step - loss: 0.2873 - accuracy: 0.8959 - val_loss: 0.2833 - val_accuracy: 0.9009\n",
            "Epoch 42/100\n",
            "14/14 [==============================] - 0s 9ms/step - loss: 0.2610 - accuracy: 0.9140 - val_loss: 0.2707 - val_accuracy: 0.8829\n",
            "Epoch 43/100\n",
            "14/14 [==============================] - 0s 9ms/step - loss: 0.2736 - accuracy: 0.9072 - val_loss: 0.2829 - val_accuracy: 0.8829\n",
            "Epoch 44/100\n",
            "14/14 [==============================] - 0s 8ms/step - loss: 0.2633 - accuracy: 0.9140 - val_loss: 0.3018 - val_accuracy: 0.8919\n",
            "Epoch 45/100\n",
            "14/14 [==============================] - 0s 8ms/step - loss: 0.2674 - accuracy: 0.9163 - val_loss: 0.2921 - val_accuracy: 0.8919\n",
            "Epoch 46/100\n",
            "14/14 [==============================] - 0s 10ms/step - loss: 0.2711 - accuracy: 0.9163 - val_loss: 0.3475 - val_accuracy: 0.8649\n",
            "Epoch 47/100\n",
            "14/14 [==============================] - 0s 9ms/step - loss: 0.2881 - accuracy: 0.9005 - val_loss: 0.2785 - val_accuracy: 0.9099\n",
            "Epoch 48/100\n",
            "14/14 [==============================] - 0s 8ms/step - loss: 0.2481 - accuracy: 0.9140 - val_loss: 0.3251 - val_accuracy: 0.8919\n",
            "Epoch 49/100\n",
            "14/14 [==============================] - 0s 9ms/step - loss: 0.3655 - accuracy: 0.8484 - val_loss: 0.4252 - val_accuracy: 0.8649\n",
            "Epoch 50/100\n",
            "14/14 [==============================] - 0s 9ms/step - loss: 0.3362 - accuracy: 0.8575 - val_loss: 0.2996 - val_accuracy: 0.8919\n",
            "Epoch 51/100\n",
            "14/14 [==============================] - 0s 12ms/step - loss: 0.2770 - accuracy: 0.9118 - val_loss: 0.2922 - val_accuracy: 0.8739\n",
            "Epoch 52/100\n",
            "14/14 [==============================] - 0s 13ms/step - loss: 0.2980 - accuracy: 0.9050 - val_loss: 0.3641 - val_accuracy: 0.9009\n",
            "Epoch 53/100\n",
            "14/14 [==============================] - 0s 14ms/step - loss: 0.3044 - accuracy: 0.9050 - val_loss: 0.3153 - val_accuracy: 0.8829\n",
            "Epoch 54/100\n",
            "14/14 [==============================] - 0s 13ms/step - loss: 0.2701 - accuracy: 0.9050 - val_loss: 0.3023 - val_accuracy: 0.8919\n",
            "Epoch 55/100\n",
            "14/14 [==============================] - 0s 14ms/step - loss: 0.2907 - accuracy: 0.9005 - val_loss: 0.3294 - val_accuracy: 0.9009\n",
            "Epoch 56/100\n",
            "14/14 [==============================] - 0s 13ms/step - loss: 0.3354 - accuracy: 0.8937 - val_loss: 0.3341 - val_accuracy: 0.8829\n",
            "Epoch 57/100\n",
            "14/14 [==============================] - 0s 13ms/step - loss: 0.3005 - accuracy: 0.8982 - val_loss: 0.3020 - val_accuracy: 0.9279\n",
            "Epoch 58/100\n",
            "14/14 [==============================] - 0s 14ms/step - loss: 0.2858 - accuracy: 0.9186 - val_loss: 0.2790 - val_accuracy: 0.9099\n",
            "Epoch 59/100\n",
            "14/14 [==============================] - 0s 13ms/step - loss: 0.2703 - accuracy: 0.9005 - val_loss: 0.3018 - val_accuracy: 0.9099\n",
            "Epoch 60/100\n",
            "14/14 [==============================] - 0s 13ms/step - loss: 0.2565 - accuracy: 0.9208 - val_loss: 0.3015 - val_accuracy: 0.9009\n",
            "Epoch 61/100\n",
            "14/14 [==============================] - 0s 14ms/step - loss: 0.2521 - accuracy: 0.9208 - val_loss: 0.2928 - val_accuracy: 0.9099\n",
            "Epoch 62/100\n",
            "14/14 [==============================] - 0s 13ms/step - loss: 0.2710 - accuracy: 0.9140 - val_loss: 0.4347 - val_accuracy: 0.8739\n",
            "Epoch 63/100\n",
            "14/14 [==============================] - 0s 8ms/step - loss: 0.3592 - accuracy: 0.8891 - val_loss: 0.3274 - val_accuracy: 0.8919\n",
            "Epoch 64/100\n",
            "14/14 [==============================] - 0s 10ms/step - loss: 0.3251 - accuracy: 0.8801 - val_loss: 0.3097 - val_accuracy: 0.9009\n",
            "Epoch 65/100\n",
            "14/14 [==============================] - 0s 8ms/step - loss: 0.2749 - accuracy: 0.9208 - val_loss: 0.3083 - val_accuracy: 0.9009\n",
            "Epoch 66/100\n",
            "14/14 [==============================] - 0s 9ms/step - loss: 0.2521 - accuracy: 0.9163 - val_loss: 0.3314 - val_accuracy: 0.8739\n",
            "Epoch 67/100\n",
            "14/14 [==============================] - 0s 9ms/step - loss: 0.2626 - accuracy: 0.9095 - val_loss: 0.2888 - val_accuracy: 0.9009\n",
            "Epoch 68/100\n",
            "14/14 [==============================] - 0s 9ms/step - loss: 0.2637 - accuracy: 0.9163 - val_loss: 0.2849 - val_accuracy: 0.9189\n",
            "Epoch 69/100\n",
            "14/14 [==============================] - 0s 9ms/step - loss: 0.2577 - accuracy: 0.9118 - val_loss: 0.2934 - val_accuracy: 0.9009\n",
            "Epoch 70/100\n",
            "14/14 [==============================] - 0s 8ms/step - loss: 0.2472 - accuracy: 0.9208 - val_loss: 0.3349 - val_accuracy: 0.8739\n",
            "Epoch 71/100\n",
            "14/14 [==============================] - 0s 9ms/step - loss: 0.3162 - accuracy: 0.8914 - val_loss: 0.4321 - val_accuracy: 0.7658\n",
            "Epoch 72/100\n",
            "14/14 [==============================] - 0s 9ms/step - loss: 0.3243 - accuracy: 0.8801 - val_loss: 0.3301 - val_accuracy: 0.9189\n",
            "Epoch 73/100\n",
            "14/14 [==============================] - 0s 10ms/step - loss: 0.2757 - accuracy: 0.8982 - val_loss: 0.3030 - val_accuracy: 0.9009\n",
            "Epoch 74/100\n",
            "14/14 [==============================] - 0s 9ms/step - loss: 0.2511 - accuracy: 0.8982 - val_loss: 0.3045 - val_accuracy: 0.8919\n",
            "Epoch 75/100\n",
            "14/14 [==============================] - 0s 8ms/step - loss: 0.2418 - accuracy: 0.9095 - val_loss: 0.2742 - val_accuracy: 0.9189\n",
            "Epoch 76/100\n",
            "14/14 [==============================] - 0s 9ms/step - loss: 0.2357 - accuracy: 0.9140 - val_loss: 0.2660 - val_accuracy: 0.9279\n",
            "Epoch 77/100\n",
            "14/14 [==============================] - 0s 9ms/step - loss: 0.2267 - accuracy: 0.9208 - val_loss: 0.2913 - val_accuracy: 0.9099\n",
            "Epoch 78/100\n",
            "14/14 [==============================] - 0s 9ms/step - loss: 0.2244 - accuracy: 0.9186 - val_loss: 0.2973 - val_accuracy: 0.9099\n",
            "Epoch 79/100\n",
            "14/14 [==============================] - 0s 9ms/step - loss: 0.2300 - accuracy: 0.9163 - val_loss: 0.2903 - val_accuracy: 0.9009\n",
            "Epoch 80/100\n",
            "14/14 [==============================] - 0s 10ms/step - loss: 0.2290 - accuracy: 0.9208 - val_loss: 0.2909 - val_accuracy: 0.9099\n",
            "Epoch 81/100\n",
            "14/14 [==============================] - 0s 9ms/step - loss: 0.2402 - accuracy: 0.9095 - val_loss: 0.3314 - val_accuracy: 0.8559\n",
            "Epoch 82/100\n",
            "14/14 [==============================] - 0s 9ms/step - loss: 0.2272 - accuracy: 0.9186 - val_loss: 0.3042 - val_accuracy: 0.9189\n",
            "Epoch 83/100\n",
            "14/14 [==============================] - 0s 10ms/step - loss: 0.2423 - accuracy: 0.9095 - val_loss: 0.3439 - val_accuracy: 0.9009\n",
            "Epoch 84/100\n",
            "14/14 [==============================] - 0s 9ms/step - loss: 0.2568 - accuracy: 0.9163 - val_loss: 0.3075 - val_accuracy: 0.8919\n",
            "Epoch 85/100\n",
            "14/14 [==============================] - 0s 9ms/step - loss: 0.2474 - accuracy: 0.9186 - val_loss: 0.3037 - val_accuracy: 0.9009\n",
            "Epoch 86/100\n",
            "14/14 [==============================] - 0s 8ms/step - loss: 0.2352 - accuracy: 0.9208 - val_loss: 0.3018 - val_accuracy: 0.9099\n",
            "Epoch 87/100\n",
            "14/14 [==============================] - 0s 9ms/step - loss: 0.2805 - accuracy: 0.8959 - val_loss: 0.2824 - val_accuracy: 0.9279\n",
            "Epoch 88/100\n",
            "14/14 [==============================] - 0s 10ms/step - loss: 0.2458 - accuracy: 0.9095 - val_loss: 0.2697 - val_accuracy: 0.9099\n",
            "Epoch 89/100\n",
            "14/14 [==============================] - 0s 9ms/step - loss: 0.2461 - accuracy: 0.9276 - val_loss: 0.2943 - val_accuracy: 0.9369\n",
            "Epoch 90/100\n",
            "14/14 [==============================] - 0s 9ms/step - loss: 0.2373 - accuracy: 0.9208 - val_loss: 0.2677 - val_accuracy: 0.9279\n",
            "Epoch 91/100\n",
            "14/14 [==============================] - 0s 9ms/step - loss: 0.2331 - accuracy: 0.9299 - val_loss: 0.3152 - val_accuracy: 0.9189\n",
            "Epoch 92/100\n",
            "14/14 [==============================] - 0s 9ms/step - loss: 0.2490 - accuracy: 0.9118 - val_loss: 0.3119 - val_accuracy: 0.8829\n",
            "Epoch 93/100\n",
            "14/14 [==============================] - 0s 9ms/step - loss: 0.2548 - accuracy: 0.9140 - val_loss: 0.3067 - val_accuracy: 0.9099\n",
            "Epoch 94/100\n",
            "14/14 [==============================] - 0s 9ms/step - loss: 0.2334 - accuracy: 0.9299 - val_loss: 0.2929 - val_accuracy: 0.8829\n",
            "Epoch 95/100\n",
            "14/14 [==============================] - 0s 9ms/step - loss: 0.2395 - accuracy: 0.9208 - val_loss: 0.2698 - val_accuracy: 0.9189\n",
            "Epoch 96/100\n",
            "14/14 [==============================] - 0s 9ms/step - loss: 0.2297 - accuracy: 0.9253 - val_loss: 0.2653 - val_accuracy: 0.8829\n",
            "Epoch 97/100\n",
            "14/14 [==============================] - 0s 9ms/step - loss: 0.2269 - accuracy: 0.9276 - val_loss: 0.2626 - val_accuracy: 0.8919\n",
            "Epoch 98/100\n",
            "14/14 [==============================] - 0s 9ms/step - loss: 0.2254 - accuracy: 0.9276 - val_loss: 0.2725 - val_accuracy: 0.9189\n",
            "Epoch 99/100\n",
            "14/14 [==============================] - 0s 9ms/step - loss: 0.2289 - accuracy: 0.9253 - val_loss: 0.2662 - val_accuracy: 0.9009\n",
            "Epoch 100/100\n",
            "14/14 [==============================] - 0s 9ms/step - loss: 0.2275 - accuracy: 0.9208 - val_loss: 0.2710 - val_accuracy: 0.8919\n"
          ]
        }
      ]
    },
    {
      "cell_type": "code",
      "source": [
        "plt.plot(history.history['loss'], label='train loss')\n",
        "plt.plot(history.history['val_loss'], label='val loss')\n",
        "plt.legend()\n",
        "plt.show()\n",
        "plt.savefig('LossVal_loss')\n",
        "\n",
        "plt.plot(history.history['accuracy'], label='train acc')\n",
        "plt.plot(history.history['val_accuracy'], label='val acc')\n",
        "plt.legend()\n",
        "plt.show()\n",
        "plt.savefig('AccVal_acc')"
      ],
      "metadata": {
        "colab": {
          "base_uri": "https://localhost:8080/",
          "height": 861
        },
        "id": "H9iy5qRTE2y6",
        "outputId": "d99df4e9-934f-4162-b707-1afe98f9aebe"
      },
      "execution_count": null,
      "outputs": [
        {
          "output_type": "display_data",
          "data": {
            "text/plain": [
              "<Figure size 640x480 with 1 Axes>"
            ],
            "image/png": "[encoded data removed]"
          },
          "metadata": {}
        },
        {
          "output_type": "display_data",
          "data": {
            "text/plain": [
              "<Figure size 640x480 with 1 Axes>"
            ],
            "image/png": "[encoded data removed]"
          },
          "metadata": {}
        },
        {
          "output_type": "display_data",
          "data": {
            "text/plain": [
              "<Figure size 640x480 with 0 Axes>"
            ]
          },
          "metadata": {}
        }
      ]
    },
    {
      "cell_type": "code",
      "source": [
        "pred = model.predict(x_test)\n",
        "pred = np.argmax(pred,axis=1)\n",
        "acc = accuracy_score(ytest, pred)\n",
        "cm = confusion_matrix(ytest, pred)\n",
        "print(\"        Accuracy: {:.2f}%\".format(acc*100))\n",
        "print(\"Confusion Matrix:\\n{}\".format(cm))\n",
        "plt.figure(figsize=(6,4))\n",
        "sns.heatmap(cm, annot=True, fmt=\"d\",cmap='RdYlGn',linewidths=0.5)\n",
        "plt.show()"
      ],
      "metadata": {
        "colab": {
          "base_uri": "https://localhost:8080/",
          "height": 457
        },
        "id": "0WY6m9jMFHOW",
        "outputId": "a83dcfdf-f376-4901-ee9e-fc6dd74c39d9"
      },
      "execution_count": null,
      "outputs": [
        {
          "output_type": "stream",
          "name": "stdout",
          "text": [
            "5/5 [==============================] - 0s 13ms/step\n",
            "        Accuracy: 91.37%\n",
            "Confusion Matrix:\n",
            "[[69  7]\n",
            " [ 5 58]]\n"
          ]
        },
        {
          "output_type": "display_data",
          "data": {
            "text/plain": [
              "<Figure size 600x400 with 2 Axes>"
            ],
            "image/png": "[encoded data removed]"
          },
          "metadata": {}
        }
      ]
    },
    {
      "cell_type": "markdown",
      "source": [
        "#fusion"
      ],
      "metadata": {
        "id": "l1DnD4An1NpU"
      }
    },
    {
      "cell_type": "code",
      "source": [
        "def get_result(xtest):\n",
        "  pb2 = knn.predict_proba(xtest)\n",
        "  x_test = xtest.reshape((xtest.shape[0],1,xtest.shape[1]))\n",
        "  pb1 = model.predict(x_test)\n",
        "  w1=0.7\n",
        "  w2 =0.2\n",
        "  pb = w1*pb1+w2*pb2\n",
        "\n",
        "  pred = np.argmax(pb,axis=1)\n",
        "  return pred\n",
        "pred = get_result(xtest)\n",
        "acc = accuracy_score(ytest, pred)\n",
        "cm = confusion_matrix(ytest, pred)\n",
        "print(\"        Accuracy: {:.2f}%\".format(acc*100))\n",
        "print(\"Confusion Matrix:\\n{}\".format(cm))\n",
        "plt.figure(figsize=(6,4))\n",
        "sns.heatmap(cm, annot=True, fmt=\"d\",cmap='RdYlGn',linewidths=0.5)\n",
        "plt.show()\n",
        "\n"
      ],
      "metadata": {
        "id": "d3FdYfVKI2-3"
      },
      "execution_count": null,
      "outputs": []
    },
    {
      "cell_type": "code",
      "source": [
        "xtest.shape"
      ],
      "metadata": {
        "colab": {
          "base_uri": "https://localhost:8080/"
        },
        "id": "w4gAXQwiC0Zu",
        "outputId": "36f1922b-e475-4bb5-af75-b03194729718"
      },
      "execution_count": null,
      "outputs": [
        {
          "output_type": "execute_result",
          "data": {
            "text/plain": [
              "(139, 11)"
            ]
          },
          "metadata": {},
          "execution_count": 40
        }
      ]
    },
    {
      "cell_type": "markdown",
      "source": [
        "#FLASK"
      ],
      "metadata": {
        "id": "GdRfPGB99g02"
      }
    },
    {
      "cell_type": "code",
      "source": [
        "from google.colab import drive\n",
        "drive.mount('mydrive')"
      ],
      "metadata": {
        "colab": {
          "base_uri": "https://localhost:8080/"
        },
        "id": "sii-u9gH_NaU",
        "outputId": "ac103b9c-f61a-4d78-b016-c1e2daab08cd"
      },
      "execution_count": null,
      "outputs": [
        {
          "output_type": "stream",
          "name": "stdout",
          "text": [
            "Mounted at mydrive\n"
          ]
        }
      ]
    },
    {
      "cell_type": "code",
      "source": [
        "!unzip /content/mydrive/MyDrive/flaskapp_fake_socialmedia3.zip -d /content"
      ],
      "metadata": {
        "id": "hvVSaiYk_b_5"
      },
      "execution_count": null,
      "outputs": []
    },
    {
      "cell_type": "code",
      "source": [
        "!pip install pyngrok -q"
      ],
      "metadata": {
        "id": "ArcDv1uR6usO"
      },
      "execution_count": null,
      "outputs": []
    },
    {
      "cell_type": "code",
      "source": [
        "from pyngrok import ngrok, conf\n",
        "token = \"2eztvNplOtga9rilPbv8NMIsfMY_5UvygYJKgBpjrirsjDcTG\"\n",
        "conf.get_default().auth_token = token\n",
        "# Open a TCP ngrok tunnel to the SSH server\n",
        "connection_string = ngrok.connect(\"22\", \"tcp\").public_url\n",
        "\n",
        "ssh_url, port = connection_string.strip(\"tcp://\").split(\":\")\n",
        "print(f\" * ngrok tunnel available, access with `ssh root@{ssh_url} -p{port}`\")"
      ],
      "metadata": {
        "colab": {
          "base_uri": "https://localhost:8080/"
        },
        "id": "S1hh6FDX9jog",
        "outputId": "5e70b991-06ed-4726-f892-7b17a7677ad9"
      },
      "execution_count": null,
      "outputs": [
        {
          "output_type": "stream",
          "name": "stdout",
          "text": [
            " * ngrok tunnel available, access with `ssh root@6.tcp.ngrok.io -p16769`\n"
          ]
        }
      ]
    },
    {
      "cell_type": "code",
      "source": [
        "import os\n",
        "import threading\n",
        "import time\n",
        "from flask import Flask,render_template,request\n",
        "from pyngrok import ngrok\n",
        "import re\n",
        "import pandas as pd\n",
        "\n",
        "app = Flask(__name__,template_folder='templates',static_folder='static')\n",
        "port = \"2000\"\n",
        "\n",
        "# Open a ngrok tunnel to the HTTP server\n",
        "public_url = ngrok.connect(port).public_url\n",
        "print(public_url)\n",
        "# Update any base URLs to use the public ngrok URL\n",
        "app.config[\"BASE_URL\"] = public_url\n",
        "\n",
        "# Define Flask routes\n",
        "@app.route(\"/\")\n",
        "def home():\n",
        "    return render_template(\"home.html\")\n",
        "@app.route('/predict', methods=['GET','POST'])\n",
        "def predict():\n",
        "    input_data = []\n",
        "    result = None\n",
        "    if request.method == 'POST':\n",
        "        input_data.append(request.form.get(\"profilepic\").lower())\n",
        "        username = request.form.get(\"nctulr\")\n",
        "        nctulr = len(re.findall(r'\\d+',username))/len(username)\n",
        "        input_data.append(nctulr)\n",
        "        fullname = request.form.get(\"fnwc\")\n",
        "        fnwc = len(fullname.split())\n",
        "        input_data.append(float(fnwc))\n",
        "        nctfnlr = len(re.findall(r'\\d+',fullname))/len(fullname)\n",
        "        input_data.append(float(nctfnlr))\n",
        "        # input_data.append(float(request.form.get(\"nctfnlr\")))\n",
        "        # input_data.append(float(request.form.get(\"nmun\")))\n",
        "        nmun = 1 if username==fullname else 0\n",
        "        input_data.append(float(nmun))\n",
        "        # input_data.append(float(request.form.get(\"dsl\")))\n",
        "        dsl = len(request.form.get(\"dsl\"))\n",
        "        input_data.append(float(dsl))\n",
        "        input_data.append(request.form.get(\"urb\").lower())\n",
        "        input_data.append(request.form.get(\"pf\").lower())\n",
        "        input_data.append(float(request.form.get(\"nop\")))\n",
        "        input_data.append(float(request.form.get(\"nof\")))\n",
        "        input_data.append(float(request.form.get(\"nofs\")))\n",
        "        data = pd.Series(input_data)\n",
        "        data = data.replace('no',0)\n",
        "        data = data.replace('yes',1)\n",
        "        inp = np.array(data)\n",
        "        inp=inp.reshape(1,len(inp))\n",
        "        res= get_result(inp)\n",
        "        if res:\n",
        "          result='FAKE'\n",
        "        else:\n",
        "          result = 'REAL'\n",
        "        return render_template(\"result.html\",result=result)\n",
        "    return render_template(\"index.html\")\n",
        "\n",
        "@app.route(\"/result\")\n",
        "def result():\n",
        "    return render_template(\"result.html\")\n",
        "\n",
        "\n",
        "\n",
        "# Start the Flask server in a new thread\n",
        "threading.Thread(target=app.run(port=port), kwargs={\"use_reloader\": False}).start()"
      ],
      "metadata": {
        "colab": {
          "base_uri": "https://localhost:8080/"
        },
        "id": "wkh18zBa9shv",
        "outputId": "51ce6b58-9b3d-47d8-9fab-53f4993cb146"
      },
      "execution_count": null,
      "outputs": [
        {
          "output_type": "stream",
          "name": "stdout",
          "text": [
            "https://5e8e-34-125-214-191.ngrok-free.app\n",
            " * Serving Flask app '__main__'\n",
            " * Debug mode: off\n"
          ]
        },
        {
          "output_type": "stream",
          "name": "stderr",
          "text": [
            "INFO:werkzeug:\u001b[31m\u001b[1mWARNING: This is a development server. Do not use it in a production deployment. Use a production WSGI server instead.\u001b[0m\n",
            " * Running on http://127.0.0.1:2000\n",
            "INFO:werkzeug:\u001b[33mPress CTRL+C to quit\u001b[0m\n",
            "INFO:werkzeug:127.0.0.1 - - [12/Apr/2024 11:28:11] \"GET / HTTP/1.1\" 200 -\n",
            "INFO:werkzeug:127.0.0.1 - - [12/Apr/2024 11:28:12] \"GET /static/style.css HTTP/1.1\" 200 -\n",
            "INFO:werkzeug:127.0.0.1 - - [12/Apr/2024 11:28:12] \"\u001b[33mGET /favicon.ico HTTP/1.1\u001b[0m\" 404 -\n",
            "INFO:werkzeug:127.0.0.1 - - [12/Apr/2024 11:28:16] \"GET /predict HTTP/1.1\" 200 -\n"
          ]
        },
        {
          "output_type": "stream",
          "name": "stdout",
          "text": [
            "1/1 [==============================] - 0s 105ms/step\n"
          ]
        },
        {
          "output_type": "stream",
          "name": "stderr",
          "text": [
            "INFO:werkzeug:127.0.0.1 - - [12/Apr/2024 11:28:26] \"POST /predict HTTP/1.1\" 200 -\n",
            "INFO:werkzeug:127.0.0.1 - - [12/Apr/2024 11:28:27] \"GET /static/style2.css HTTP/1.1\" 200 -\n",
            "INFO:werkzeug:127.0.0.1 - - [12/Apr/2024 11:28:27] \"\u001b[33mGET /script.js HTTP/1.1\u001b[0m\" 404 -\n",
            "INFO:werkzeug:127.0.0.1 - - [12/Apr/2024 11:28:32] \"GET / HTTP/1.1\" 200 -\n",
            "INFO:werkzeug:127.0.0.1 - - [12/Apr/2024 11:28:32] \"GET /static/style.css HTTP/1.1\" 200 -\n"
          ]
        }
      ]
    },
    {
      "cell_type": "code",
      "source": [],
      "metadata": {
        "id": "RHicWN9xD4Hi"
      },
      "execution_count": null,
      "outputs": []
    }
  ]
}